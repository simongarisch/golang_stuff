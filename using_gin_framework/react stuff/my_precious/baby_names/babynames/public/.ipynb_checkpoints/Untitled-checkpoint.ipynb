{
 "cells": [
  {
   "cell_type": "markdown",
   "metadata": {},
   "source": [
    "## Reading data.json"
   ]
  },
  {
   "cell_type": "code",
   "execution_count": 1,
   "metadata": {},
   "outputs": [],
   "source": [
    "var fs = require('fs');\n",
    "\n",
    "var files = fs.readdirSync('./');"
   ]
  },
  {
   "cell_type": "code",
   "execution_count": 2,
   "metadata": {},
   "outputs": [
    {
     "data": {
      "text/plain": [
       "[ '.ipynb_checkpoints',\n",
       "  'data.json',\n",
       "  'favicon.ico',\n",
       "  'index.html',\n",
       "  'logo192.png',\n",
       "  'logo512.png',\n",
       "  'manifest.json',\n",
       "  'robots.txt',\n",
       "  'Untitled.ipynb' ]"
      ]
     },
     "execution_count": 2,
     "metadata": {},
     "output_type": "execute_result"
    }
   ],
   "source": [
    "files"
   ]
  },
  {
   "cell_type": "code",
   "execution_count": 3,
   "metadata": {},
   "outputs": [],
   "source": [
    "//npm install -g json-loader\n",
    "const json = require('./data.json');"
   ]
  },
  {
   "cell_type": "code",
   "execution_count": 4,
   "metadata": {},
   "outputs": [
    {
     "data": {
      "text/plain": [
       "'object'"
      ]
     },
     "execution_count": 4,
     "metadata": {},
     "output_type": "execute_result"
    }
   ],
   "source": [
    "typeof(json)"
   ]
  },
  {
   "cell_type": "code",
   "execution_count": 5,
   "metadata": {},
   "outputs": [
    {
     "data": {
      "text/plain": [
       "[ 'boy', 'girl' ]"
      ]
     },
     "execution_count": 5,
     "metadata": {},
     "output_type": "execute_result"
    }
   ],
   "source": [
    "var keys = Object.keys(json)\n",
    "keys"
   ]
  },
  {
   "cell_type": "code",
   "execution_count": 6,
   "metadata": {},
   "outputs": [
    {
     "data": {
      "text/plain": [
       "'object'"
      ]
     },
     "execution_count": 6,
     "metadata": {},
     "output_type": "execute_result"
    }
   ],
   "source": [
    "typeof(keys)"
   ]
  },
  {
   "cell_type": "code",
   "execution_count": 13,
   "metadata": {},
   "outputs": [
    {
     "name": "stdout",
     "output_type": "stream",
     "text": [
      "0 'boy'\n",
      "1 'girl'\n"
     ]
    }
   ],
   "source": [
    "function getSome(){\n",
    "    let names = []\n",
    "    let json = require('./data.json')\n",
    "    let keys = Object.keys(json)\n",
    "\n",
    "    let counter = 0\n",
    "    for (const [i, gender] of keys.entries()) {\n",
    "        //console.log(i, gender)\n",
    "        genderNames = json[gender]\n",
    "        for (var name in genderNames) {\n",
    "            counter++\n",
    "            names.append({'id': counter, 'name': name, 'gender': gender})\n",
    "        }\n",
    "    }\n",
    "    \n",
    "}\n",
    "\n",
    "getSome()"
   ]
  },
  {
   "cell_type": "code",
   "execution_count": null,
   "metadata": {},
   "outputs": [],
   "source": []
  }
 ],
 "metadata": {
  "kernelspec": {
   "display_name": "Javascript (Node.js)",
   "language": "javascript",
   "name": "javascript"
  },
  "language_info": {
   "file_extension": ".js",
   "mimetype": "application/javascript",
   "name": "javascript",
   "version": "10.16.0"
  }
 },
 "nbformat": 4,
 "nbformat_minor": 2
}
