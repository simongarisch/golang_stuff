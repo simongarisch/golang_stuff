{
 "cells": [
  {
   "cell_type": "markdown",
   "metadata": {},
   "source": [
    "## Reading data.json"
   ]
  },
  {
   "cell_type": "code",
   "execution_count": 1,
   "metadata": {},
   "outputs": [],
   "source": [
    "var fs = require('fs');\n",
    "\n",
    "var files = fs.readdirSync('./');"
   ]
  },
  {
   "cell_type": "code",
   "execution_count": 2,
   "metadata": {},
   "outputs": [
    {
     "data": {
      "text/plain": [
       "[ '.ipynb_checkpoints',\n",
       "  'data.json',\n",
       "  'favicon.ico',\n",
       "  'index.html',\n",
       "  'logo192.png',\n",
       "  'logo512.png',\n",
       "  'manifest.json',\n",
       "  'robots.txt',\n",
       "  'Untitled.ipynb' ]"
      ]
     },
     "execution_count": 2,
     "metadata": {},
     "output_type": "execute_result"
    }
   ],
   "source": [
    "files"
   ]
  },
  {
   "cell_type": "code",
   "execution_count": 3,
   "metadata": {},
   "outputs": [],
   "source": [
    "//npm install -g json-loader\n",
    "const json = require('./data.json');"
   ]
  },
  {
   "cell_type": "code",
   "execution_count": 4,
   "metadata": {},
   "outputs": [
    {
     "data": {
      "text/plain": [
       "'object'"
      ]
     },
     "execution_count": 4,
     "metadata": {},
     "output_type": "execute_result"
    }
   ],
   "source": [
    "typeof(json)"
   ]
  },
  {
   "cell_type": "code",
   "execution_count": 5,
   "metadata": {},
   "outputs": [
    {
     "data": {
      "text/plain": [
       "[ 'boy', 'girl' ]"
      ]
     },
     "execution_count": 5,
     "metadata": {},
     "output_type": "execute_result"
    }
   ],
   "source": [
    "var keys = Object.keys(json)\n",
    "keys"
   ]
  },
  {
   "cell_type": "code",
   "execution_count": 6,
   "metadata": {},
   "outputs": [
    {
     "data": {
      "text/plain": [
       "'object'"
      ]
     },
     "execution_count": 6,
     "metadata": {},
     "output_type": "execute_result"
    }
   ],
   "source": [
    "typeof(keys)"
   ]
  },
  {
   "cell_type": "code",
   "execution_count": 17,
   "metadata": {},
   "outputs": [
    {
     "data": {
      "text/plain": [
       "[ { id: 1, name: 'Noah', gender: 'boy' },\n",
       "  { id: 2, name: 'Liam', gender: 'boy' },\n",
       "  { id: 3, name: 'William', gender: 'boy' },\n",
       "  { id: 4, name: 'Mason', gender: 'boy' },\n",
       "  { id: 5, name: 'James', gender: 'boy' },\n",
       "  { id: 6, name: 'Benjamin', gender: 'boy' },\n",
       "  { id: 7, name: 'Jacob', gender: 'boy' },\n",
       "  { id: 8, name: 'Michael', gender: 'boy' },\n",
       "  { id: 9, name: 'Elijah', gender: 'boy' },\n",
       "  { id: 10, name: 'Ethan', gender: 'boy' },\n",
       "  { id: 11, name: 'Alexander', gender: 'boy' },\n",
       "  { id: 12, name: 'Oliver', gender: 'boy' },\n",
       "  { id: 13, name: 'Daniel', gender: 'boy' },\n",
       "  { id: 14, name: 'Lucas', gender: 'boy' },\n",
       "  { id: 15, name: 'Matthew', gender: 'boy' },\n",
       "  { id: 16, name: 'Aiden', gender: 'boy' },\n",
       "  { id: 17, name: 'Jackson', gender: 'boy' },\n",
       "  { id: 18, name: 'Logan', gender: 'boy' },\n",
       "  { id: 19, name: 'David', gender: 'boy' },\n",
       "  { id: 20, name: 'Joseph', gender: 'boy' },\n",
       "  { id: 21, name: 'Samuel', gender: 'boy' },\n",
       "  { id: 22, name: 'Henry', gender: 'boy' },\n",
       "  { id: 23, name: 'Owen', gender: 'boy' },\n",
       "  { id: 24, name: 'Sebastian', gender: 'boy' },\n",
       "  { id: 25, name: 'Gabriel', gender: 'boy' },\n",
       "  { id: 26, name: 'Carter', gender: 'boy' },\n",
       "  { id: 27, name: 'Jayden', gender: 'boy' },\n",
       "  { id: 28, name: 'John', gender: 'boy' },\n",
       "  { id: 29, name: 'Luke', gender: 'boy' },\n",
       "  { id: 30, name: 'Anthony', gender: 'boy' },\n",
       "  { id: 31, name: 'Isaac', gender: 'boy' },\n",
       "  { id: 32, name: 'Dylan', gender: 'boy' },\n",
       "  { id: 33, name: 'Wyatt', gender: 'boy' },\n",
       "  { id: 34, name: 'Andrew', gender: 'boy' },\n",
       "  { id: 35, name: 'Joshua', gender: 'boy' },\n",
       "  { id: 36, name: 'Christopher', gender: 'boy' },\n",
       "  { id: 37, name: 'Grayson', gender: 'boy' },\n",
       "  { id: 38, name: 'Jack', gender: 'boy' },\n",
       "  { id: 39, name: 'Julian', gender: 'boy' },\n",
       "  { id: 40, name: 'Ryan', gender: 'boy' },\n",
       "  { id: 41, name: 'Jaxon', gender: 'boy' },\n",
       "  { id: 42, name: 'Levi', gender: 'boy' },\n",
       "  { id: 43, name: 'Nathan', gender: 'boy' },\n",
       "  { id: 44, name: 'Caleb', gender: 'boy' },\n",
       "  { id: 45, name: 'Hunter', gender: 'boy' },\n",
       "  { id: 46, name: 'Christian', gender: 'boy' },\n",
       "  { id: 47, name: 'Isaiah', gender: 'boy' },\n",
       "  { id: 48, name: 'Thomas', gender: 'boy' },\n",
       "  { id: 49, name: 'Aaron', gender: 'boy' },\n",
       "  { id: 50, name: 'Lincoln', gender: 'boy' },\n",
       "  { id: 51, name: 'Charles', gender: 'boy' },\n",
       "  { id: 52, name: 'Eli', gender: 'boy' },\n",
       "  { id: 53, name: 'Landon', gender: 'boy' },\n",
       "  { id: 54, name: 'Connor', gender: 'boy' },\n",
       "  { id: 55, name: 'Josiah', gender: 'boy' },\n",
       "  { id: 56, name: 'Jonathan', gender: 'boy' },\n",
       "  { id: 57, name: 'Cameron', gender: 'boy' },\n",
       "  { id: 58, name: 'Jeremiah', gender: 'boy' },\n",
       "  { id: 59, name: 'Mateo', gender: 'boy' },\n",
       "  { id: 60, name: 'Adrian', gender: 'boy' },\n",
       "  { id: 61, name: 'Hudson', gender: 'boy' },\n",
       "  { id: 62, name: 'Robert', gender: 'boy' },\n",
       "  { id: 63, name: 'Nicholas', gender: 'boy' },\n",
       "  { id: 64, name: 'Brayden', gender: 'boy' },\n",
       "  { id: 65, name: 'Nolan', gender: 'boy' },\n",
       "  { id: 66, name: 'Easton', gender: 'boy' },\n",
       "  { id: 67, name: 'Jordan', gender: 'boy' },\n",
       "  { id: 68, name: 'Colton', gender: 'boy' },\n",
       "  { id: 69, name: 'Evan', gender: 'boy' },\n",
       "  { id: 70, name: 'Angel', gender: 'boy' },\n",
       "  { id: 71, name: 'Asher', gender: 'boy' },\n",
       "  { id: 72, name: 'Dominic', gender: 'boy' },\n",
       "  { id: 73, name: 'Austin', gender: 'boy' },\n",
       "  { id: 74, name: 'Leo', gender: 'boy' },\n",
       "  { id: 75, name: 'Adam', gender: 'boy' },\n",
       "  { id: 76, name: 'Jace', gender: 'boy' },\n",
       "  { id: 77, name: 'Jose', gender: 'boy' },\n",
       "  { id: 78, name: 'Ian', gender: 'boy' },\n",
       "  { id: 79, name: 'Cooper', gender: 'boy' },\n",
       "  { id: 80, name: 'Gavin', gender: 'boy' },\n",
       "  { id: 81, name: 'Carson', gender: 'boy' },\n",
       "  { id: 82, name: 'Jaxson', gender: 'boy' },\n",
       "  { id: 83, name: 'Theodore', gender: 'boy' },\n",
       "  { id: 84, name: 'Jason', gender: 'boy' },\n",
       "  { id: 85, name: 'Ezra', gender: 'boy' },\n",
       "  { id: 86, name: 'Chase', gender: 'boy' },\n",
       "  { id: 87, name: 'Parker', gender: 'boy' },\n",
       "  { id: 88, name: 'Xavier', gender: 'boy' },\n",
       "  { id: 89, name: 'Kevin', gender: 'boy' },\n",
       "  { id: 90, name: 'Zachary', gender: 'boy' },\n",
       "  { id: 91, name: 'Tyler', gender: 'boy' },\n",
       "  { id: 92, name: 'Ayden', gender: 'boy' },\n",
       "  { id: 93, name: 'Elias', gender: 'boy' },\n",
       "  { id: 94, name: 'Bryson', gender: 'boy' },\n",
       "  { id: 95, name: 'Leonardo', gender: 'boy' },\n",
       "  { id: 96, name: 'Greyson', gender: 'boy' },\n",
       "  { id: 97, name: 'Sawyer', gender: 'boy' },\n",
       "  { id: 98, name: 'Roman', gender: 'boy' },\n",
       "  { id: 99, name: 'Brandon', gender: 'boy' },\n",
       "  { id: 100, name: 'Bentley', gender: 'boy' },\n",
       "  ... 1900 more items ]"
      ]
     },
     "execution_count": 17,
     "metadata": {},
     "output_type": "execute_result"
    }
   ],
   "source": [
    "function getNames(){\n",
    "    let names = []\n",
    "    let json = require('./data.json')\n",
    "    let keys = Object.keys(json)\n",
    "\n",
    "    let counter = 0\n",
    "    for (const [i, gender] of keys.entries()) {\n",
    "        //console.log(i, gender)\n",
    "        genderNames = json[gender]\n",
    "        for (const [j, name] of genderNames.entries()) {\n",
    "            counter++\n",
    "            names.push({'id': counter, 'name': name, 'gender': gender})\n",
    "        }\n",
    "    }\n",
    "    return names\n",
    "}\n",
    "\n",
    "names = getNames()\n"
   ]
  },
  {
   "cell_type": "markdown",
   "metadata": {},
   "source": [
    "***"
   ]
  }
 ],
 "metadata": {
  "kernelspec": {
   "display_name": "Javascript (Node.js)",
   "language": "javascript",
   "name": "javascript"
  },
  "language_info": {
   "file_extension": ".js",
   "mimetype": "application/javascript",
   "name": "javascript",
   "version": "10.16.0"
  }
 },
 "nbformat": 4,
 "nbformat_minor": 2
}
