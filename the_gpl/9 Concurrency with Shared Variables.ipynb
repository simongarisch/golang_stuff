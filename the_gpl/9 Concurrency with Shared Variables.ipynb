{
 "cells": [
  {
   "cell_type": "markdown",
   "metadata": {},
   "source": [
    "## Concurrency with Shared Variables"
   ]
  },
  {
   "cell_type": "markdown",
   "metadata": {},
   "source": [
    "## Race Conditions\n",
    "There are many reasons a function might not work when called concurrently, including deadlock, livelock, and resource starvation. We don’t have space to discuss all of them, so we’ll focus on the most important one, the race condition.\n",
    "\n",
    "A race condition is a situation in which the program does not give the correct result for some interleavings of the operations of multiple goroutines. Race conditions are pernicious because they may remain latent in a program and appear infrequently, perhaps only under heavy load or when using certain compilers, platforms, or architectures."
   ]
  },
  {
   "cell_type": "code",
   "execution_count": 1,
   "metadata": {},
   "outputs": [],
   "source": [
    "var balance int\n",
    "\n",
    "func Deposit(amount int) { balance = balance + amount }\n",
    "\n",
    "func Balance() int { return balance }\n"
   ]
  },
  {
   "cell_type": "code",
   "execution_count": 2,
   "metadata": {},
   "outputs": [
    {
     "data": {
      "text/plain": [
       "10"
      ]
     },
     "execution_count": 2,
     "metadata": {},
     "output_type": "execute_result"
    }
   ],
   "source": [
    "balance = 0\n",
    "Deposit(10)\n",
    "Balance()"
   ]
  },
  {
   "cell_type": "code",
   "execution_count": 3,
   "metadata": {},
   "outputs": [
    {
     "data": {
      "text/plain": [
       "100000"
      ]
     },
     "execution_count": 3,
     "metadata": {},
     "output_type": "execute_result"
    }
   ],
   "source": [
    "// no issues here\n",
    "balance = 0\n",
    "for i:=1; i<=1e5; i++ {\n",
    "    Deposit(1)\n",
    "}\n",
    "\n",
    "Balance()"
   ]
  },
  {
   "cell_type": "code",
   "execution_count": 5,
   "metadata": {},
   "outputs": [
    {
     "data": {
      "text/plain": [
       "99929"
      ]
     },
     "execution_count": 5,
     "metadata": {},
     "output_type": "execute_result"
    }
   ],
   "source": [
    "// we have our race condition\n",
    "// remove the 'go' in front of ConcDeposit to run sequentially (and get 1000)\n",
    "import \"sync\"\n",
    "\n",
    "balance = 0\n",
    "\n",
    "var wg sync.WaitGroup\n",
    "\n",
    "func ConcDeposit(amount int, wg *sync.WaitGroup){\n",
    "    defer wg.Done()\n",
    "    Deposit(amount)\n",
    "}\n",
    "\n",
    "for i:=1; i<=1e5; i++ {\n",
    "    wg.Add(1)\n",
    "    go ConcDeposit(1, &wg)\n",
    "}\n",
    "\n",
    "wg.Wait()\n",
    "Balance()"
   ]
  },
  {
   "cell_type": "markdown",
   "metadata": {},
   "source": [
    "This program contains a particular kind of race condition called a data race. A data race occurs whenever two goroutines access the same variable concurrently and at least one of the accesses is a write. A good rule of thumb is that there is no such thing as a benign data race.\n",
    "\n",
    "There are several ways to avoid a data race:\n",
    "*  Only read and don't write. Obviously not going to work if updates are essential.\n",
    "*  Avoid accessing the variable from multiple goroutines\n",
    "*  The third way to avoid a data race is to allow many goroutines to access the variable, but only one at a time. This approach is known as mutual exclusion.\n",
    "\n",
    "Here is approach 2:"
   ]
  },
  {
   "cell_type": "code",
   "execution_count": 6,
   "metadata": {},
   "outputs": [],
   "source": [
    "var deposits = make(chan int) // send amount to deposit\n",
    "var balances = make(chan int) // receive balance\n",
    "\n",
    "func Deposit(amount int) { deposits <- amount }\n",
    "func Balance() int       { return <-balances }\n",
    "\n",
    "func teller() {\n",
    "    var balance int // balance is confined to teller goroutine\n",
    "    for {\n",
    "        select {\n",
    "            case amount := <-deposits:\n",
    "                balance += amount\n",
    "            case balances <- balance:\n",
    "        }\n",
    "    }\n",
    "}\n",
    "\n",
    "func init() {\n",
    "    go teller() // start the monitor goroutine\n",
    "}\n",
    "\n",
    "init()"
   ]
  },
  {
   "cell_type": "code",
   "execution_count": 7,
   "metadata": {},
   "outputs": [
    {
     "data": {
      "text/plain": [
       "0"
      ]
     },
     "execution_count": 7,
     "metadata": {},
     "output_type": "execute_result"
    }
   ],
   "source": [
    "Balance()"
   ]
  },
  {
   "cell_type": "code",
   "execution_count": 9,
   "metadata": {},
   "outputs": [
    {
     "data": {
      "text/plain": [
       "0"
      ]
     },
     "execution_count": 9,
     "metadata": {},
     "output_type": "execute_result"
    }
   ],
   "source": [
    "Balance()"
   ]
  },
  {
   "cell_type": "code",
   "execution_count": 10,
   "metadata": {},
   "outputs": [],
   "source": [
    "Deposit(10)"
   ]
  },
  {
   "cell_type": "code",
   "execution_count": 11,
   "metadata": {},
   "outputs": [
    {
     "data": {
      "text/plain": [
       "10"
      ]
     },
     "execution_count": 11,
     "metadata": {},
     "output_type": "execute_result"
    }
   ],
   "source": [
    "Balance()"
   ]
  },
  {
   "cell_type": "code",
   "execution_count": 12,
   "metadata": {},
   "outputs": [],
   "source": [
    "Deposit(5)"
   ]
  },
  {
   "cell_type": "code",
   "execution_count": 13,
   "metadata": {},
   "outputs": [
    {
     "data": {
      "text/plain": [
       "15"
      ]
     },
     "execution_count": 13,
     "metadata": {},
     "output_type": "execute_result"
    }
   ],
   "source": [
    "Balance()"
   ]
  },
  {
   "cell_type": "code",
   "execution_count": 14,
   "metadata": {},
   "outputs": [],
   "source": [
    "Deposit(-7)"
   ]
  },
  {
   "cell_type": "code",
   "execution_count": 15,
   "metadata": {},
   "outputs": [
    {
     "data": {
      "text/plain": [
       "8"
      ]
     },
     "execution_count": 15,
     "metadata": {},
     "output_type": "execute_result"
    }
   ],
   "source": [
    "Balance()"
   ]
  },
  {
   "cell_type": "markdown",
   "metadata": {},
   "source": [
    "Finally, under approach 3 with mutual exclusion:"
   ]
  },
  {
   "cell_type": "code",
   "execution_count": 17,
   "metadata": {},
   "outputs": [],
   "source": [
    "type Cake struct{ state string }\n",
    "\n",
    "func baker(cooked chan<- *Cake) {\n",
    "    for {\n",
    "        cake := new(Cake)\n",
    "        cake.state = \"cooked\"\n",
    "        cooked <- cake // baker never touches this cake again\n",
    "    }\n",
    "}\n",
    "\n",
    "func icer(iced chan<- *Cake, cooked <-chan *Cake){\n",
    "    for cake := range cooked {\n",
    "        cake.state = \"iced\"\n",
    "        iced <- cake // icer never touches this cake again\n",
    "    }\n",
    "}"
   ]
  },
  {
   "cell_type": "markdown",
   "metadata": {},
   "source": [
    "## Mutual Exclusion: sync.Mutex"
   ]
  },
  {
   "cell_type": "code",
   "execution_count": 18,
   "metadata": {},
   "outputs": [],
   "source": [
    "var (\n",
    "    sema = make(chan struct{}, 1) // a binary semaphore guarding balance\n",
    "    balance int\n",
    ")\n",
    "\n",
    "func Deposit(amount int) {\n",
    "    sema <- struct{}{} // acquire token\n",
    "    balance = balance + amount\n",
    "    <-sema // release token\n",
    "}\n",
    "\n",
    "func Balance() int {\n",
    "    sema <- struct{}{} // acquire token\n",
    "    b := balance\n",
    "    <-sema // release token\n",
    "    return b\n",
    "}"
   ]
  },
  {
   "cell_type": "markdown",
   "metadata": {},
   "source": [
    "This pattern of mutual exclusion is so useful that it is supported directly by the Mutex type from the sync package."
   ]
  },
  {
   "cell_type": "code",
   "execution_count": 19,
   "metadata": {},
   "outputs": [],
   "source": [
    "import \"sync\"\n",
    "\n",
    "var (\n",
    "    mu sync.Mutex // guards balance\n",
    "    balance int\n",
    ")\n",
    "\n",
    "func Deposit(amount int) {\n",
    "    mu.Lock()\n",
    "    balance = balance + amount\n",
    "    mu.Unlock()\n",
    "}\n",
    "\n",
    "func Balance() int {\n",
    "    mu.Lock()\n",
    "    b := balance\n",
    "    mu.Unlock()\n",
    "    return b\n",
    "}\n"
   ]
  },
  {
   "cell_type": "code",
   "execution_count": 20,
   "metadata": {},
   "outputs": [],
   "source": [
    "for i:=1; i<=10000; i++ {\n",
    "    go Deposit(1)\n",
    "}"
   ]
  },
  {
   "cell_type": "code",
   "execution_count": 22,
   "metadata": {},
   "outputs": [
    {
     "data": {
      "text/plain": [
       "10000"
      ]
     },
     "execution_count": 22,
     "metadata": {},
     "output_type": "execute_result"
    }
   ],
   "source": [
    "Balance()"
   ]
  },
  {
   "cell_type": "markdown",
   "metadata": {},
   "source": [
    "By convention, the variables guarded by a mutex are declared immediately after the declaration of the mutex itself. If you deviate from this, be sure to document it.\n",
    "\n",
    "By deferring a call to Unlock, the critical section implicitly extends to the end of the current function, freeing us from having to remember to insert Unlock calls in one or more places far from the call to Lock. Furthermore, a deferred Unlock will run even if the critical section panics, which may be important in programs that make use of recover."
   ]
  },
  {
   "cell_type": "code",
   "execution_count": 23,
   "metadata": {},
   "outputs": [],
   "source": [
    "func Balance() int {\n",
    "    mu.Lock()\n",
    "    defer mu.Unlock()\n",
    "    return balance\n",
    "}"
   ]
  },
  {
   "cell_type": "code",
   "execution_count": 24,
   "metadata": {},
   "outputs": [],
   "source": [
    "// NOTE: not atomic!\n",
    "func Withdraw(amount int) bool {\n",
    "    Deposit(-amount)\n",
    "    if Balance() < 0 {\n",
    "        Deposit(amount)\n",
    "        return false // insufficient funds\n",
    "    }\n",
    "    return true\n",
    "}"
   ]
  },
  {
   "cell_type": "markdown",
   "metadata": {},
   "source": [
    "This function eventually gives the correct result, but it has a nasty side effect. When an excessive withdrawal is attempted, the balance transiently dips below zero. This may cause a concurrent withdrawal for a modest sum to be spuriously rejected. The problem is that Withdraw is not atomic: it consists of a sequence of three separate operations, each of which acquires and then releases the mutex lock, but nothing locks the whole sequence.\n",
    "\n",
    "Ideally, Withdraw should acquire the mutex lock once around the whole operation. However, this attempt won’t work:"
   ]
  },
  {
   "cell_type": "code",
   "execution_count": 25,
   "metadata": {},
   "outputs": [],
   "source": [
    "// NOTE: incorrect!\n",
    "func Withdraw(amount int) bool {\n",
    "    mu.Lock()\n",
    "    defer mu.Unlock()\n",
    "    Deposit(-amount)\n",
    "    if Balance() < 0 {\n",
    "        Deposit(amount)\n",
    "        return false // insufficient funds\n",
    "    }\n",
    "    return true\n",
    "}"
   ]
  },
  {
   "cell_type": "markdown",
   "metadata": {},
   "source": [
    "Deposit tries to acquire the mutex lock a second time by calling mu.Lock(), but because mutex locks are not re-entrant—it’s not possible to lock a mutex that’s already locked—this leads to a deadlock where nothing can proceed, and Withdraw blocks forever.\n",
    "\n",
    "A common solution is to divide a function such as Deposit into two: an unexported function, deposit, that assumes the lock is already held and does the real work, and an exported function Deposit that acquires the lock before calling deposit."
   ]
  },
  {
   "cell_type": "code",
   "execution_count": 27,
   "metadata": {},
   "outputs": [],
   "source": [
    "func Withdraw(amount int) bool {\n",
    "    mu.Lock()\n",
    "    defer mu.Unlock()\n",
    "    deposit(-amount)\n",
    "    if balance < 0 {\n",
    "        deposit(amount)\n",
    "        return false // insufficient funds\n",
    "    }\n",
    "    return true\n",
    "}\n",
    "\n",
    "func Deposit(amount int) {\n",
    "    mu.Lock()\n",
    "    defer mu.Unlock()\n",
    "    deposit(amount)\n",
    "}\n",
    "\n",
    "func Balance() int {\n",
    "    mu.Lock()\n",
    "    defer mu.Unlock()\n",
    "    return balance\n",
    "}\n",
    "\n",
    "// This function requires that the lock be held.\n",
    "func deposit(amount int) { balance += amount }"
   ]
  },
  {
   "cell_type": "code",
   "execution_count": 28,
   "metadata": {},
   "outputs": [
    {
     "data": {
      "text/plain": [
       "10000"
      ]
     },
     "execution_count": 28,
     "metadata": {},
     "output_type": "execute_result"
    }
   ],
   "source": [
    "Balance()"
   ]
  },
  {
   "cell_type": "code",
   "execution_count": 29,
   "metadata": {},
   "outputs": [
    {
     "data": {
      "text/plain": [
       "false"
      ]
     },
     "execution_count": 29,
     "metadata": {},
     "output_type": "execute_result"
    }
   ],
   "source": [
    "Withdraw(15000)"
   ]
  },
  {
   "cell_type": "code",
   "execution_count": 30,
   "metadata": {},
   "outputs": [
    {
     "data": {
      "text/plain": [
       "10000"
      ]
     },
     "execution_count": 30,
     "metadata": {},
     "output_type": "execute_result"
    }
   ],
   "source": [
    "Balance()"
   ]
  },
  {
   "cell_type": "code",
   "execution_count": 32,
   "metadata": {},
   "outputs": [
    {
     "data": {
      "text/plain": [
       "true"
      ]
     },
     "execution_count": 32,
     "metadata": {},
     "output_type": "execute_result"
    }
   ],
   "source": [
    "Withdraw(9000)"
   ]
  },
  {
   "cell_type": "code",
   "execution_count": 33,
   "metadata": {},
   "outputs": [
    {
     "data": {
      "text/plain": [
       "1000"
      ]
     },
     "execution_count": 33,
     "metadata": {},
     "output_type": "execute_result"
    }
   ],
   "source": [
    "Balance()"
   ]
  },
  {
   "cell_type": "markdown",
   "metadata": {},
   "source": [
    "When you use a mutex, make sure that both it and the variables it guards are not exported, whether they are package-level variables or the fields of a struct."
   ]
  },
  {
   "cell_type": "markdown",
   "metadata": {},
   "source": [
    "## Read/Write Mutexes: sync.RWMutex"
   ]
  },
  {
   "cell_type": "code",
   "execution_count": null,
   "metadata": {},
   "outputs": [],
   "source": []
  }
 ],
 "metadata": {
  "kernelspec": {
   "display_name": "Go",
   "language": "go",
   "name": "gophernotes"
  },
  "language_info": {
   "codemirror_mode": "",
   "file_extension": ".go",
   "mimetype": "",
   "name": "go",
   "nbconvert_exporter": "",
   "pygments_lexer": "",
   "version": "go1.11.4"
  }
 },
 "nbformat": 4,
 "nbformat_minor": 2
}
