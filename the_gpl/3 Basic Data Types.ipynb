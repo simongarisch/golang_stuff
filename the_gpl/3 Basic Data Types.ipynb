{
 "cells": [
  {
   "cell_type": "markdown",
   "metadata": {},
   "source": [
    "## Basic Data Types\n",
    "Go’s types fall into four categories: basic types, aggregate types, reference types, and interface types. Basic types, the topic of this chapter, include numbers, strings, and booleans. Aggregate types - arrays and structs - form more complicated data types by combining values of several simpler ones. Reference types are a diverse group that includes pointers, slices, maps, functions, and channels, but what they have in common is that they all refer to program variables or state indirectly, so that the effect of an operation applied to one reference is observed by all copies of that reference."
   ]
  },
  {
   "cell_type": "markdown",
   "metadata": {},
   "source": [
    "## int"
   ]
  },
  {
   "cell_type": "code",
   "execution_count": 29,
   "metadata": {},
   "outputs": [
    {
     "name": "stdout",
     "output_type": "stream",
     "text": [
      "gc amd64 linux\n",
      "64\n"
     ]
    }
   ],
   "source": [
    "import (\n",
    "    \"fmt\"\n",
    "    \"runtime\"\n",
    "    \"strconv\"\n",
    ")\n",
    "\n",
    "func main() {\n",
    "    fmt.Println(runtime.Compiler, runtime.GOARCH, runtime.GOOS)\n",
    "    fmt.Println(strconv.IntSize)\n",
    "}\n",
    "\n",
    "main()"
   ]
  },
  {
   "cell_type": "code",
   "execution_count": 39,
   "metadata": {},
   "outputs": [
    {
     "data": {
      "text/plain": [
       "7"
      ]
     },
     "execution_count": 39,
     "metadata": {},
     "output_type": "execute_result"
    }
   ],
   "source": [
    "var x int = 7\n",
    "\n",
    "x"
   ]
  },
  {
   "cell_type": "code",
   "execution_count": 40,
   "metadata": {},
   "outputs": [
    {
     "data": {
      "text/plain": [
       "int"
      ]
     },
     "execution_count": 40,
     "metadata": {},
     "output_type": "execute_result"
    }
   ],
   "source": [
    "import \"reflect\"\n",
    "\n",
    "reflect.TypeOf(x).String()"
   ]
  },
  {
   "cell_type": "code",
   "execution_count": 41,
   "metadata": {},
   "outputs": [
    {
     "data": {
      "text/plain": [
       "8"
      ]
     },
     "execution_count": 41,
     "metadata": {},
     "output_type": "execute_result"
    }
   ],
   "source": [
    "reflect.TypeOf(x).Size()"
   ]
  },
  {
   "cell_type": "code",
   "execution_count": 42,
   "metadata": {},
   "outputs": [],
   "source": [
    "var a int8\n",
    "var b int16\n",
    "var c int32\n",
    "var d int64"
   ]
  },
  {
   "cell_type": "code",
   "execution_count": 43,
   "metadata": {},
   "outputs": [
    {
     "data": {
      "text/plain": [
       "0"
      ]
     },
     "execution_count": 43,
     "metadata": {},
     "output_type": "execute_result"
    }
   ],
   "source": [
    "d"
   ]
  },
  {
   "cell_type": "code",
   "execution_count": 44,
   "metadata": {},
   "outputs": [
    {
     "data": {
      "text/plain": [
       "int64"
      ]
     },
     "execution_count": 44,
     "metadata": {},
     "output_type": "execute_result"
    }
   ],
   "source": [
    "reflect.TypeOf(d).String()"
   ]
  },
  {
   "cell_type": "code",
   "execution_count": 45,
   "metadata": {},
   "outputs": [
    {
     "data": {
      "text/plain": [
       "8"
      ]
     },
     "execution_count": 45,
     "metadata": {},
     "output_type": "execute_result"
    }
   ],
   "source": [
    "reflect.TypeOf(d).Size()  // ..."
   ]
  },
  {
   "cell_type": "code",
   "execution_count": 46,
   "metadata": {},
   "outputs": [],
   "source": [
    "var w uint8\n",
    "var x uint16\n",
    "var y uint32\n",
    "var z uint64"
   ]
  },
  {
   "cell_type": "code",
   "execution_count": 47,
   "metadata": {},
   "outputs": [
    {
     "data": {
      "text/plain": [
       "0"
      ]
     },
     "execution_count": 47,
     "metadata": {},
     "output_type": "execute_result"
    }
   ],
   "source": [
    "z"
   ]
  },
  {
   "cell_type": "code",
   "execution_count": 50,
   "metadata": {},
   "outputs": [
    {
     "name": "stdout",
     "output_type": "stream",
     "text": [
      "bronze\n",
      "silver\n",
      "gold\n"
     ]
    }
   ],
   "source": [
    "medals := []string{\"gold\", \"silver\", \"bronze\"}\n",
    "\n",
    "for i := len(medals) - 1; i >= 0; i-- {\n",
    "    fmt.Println(medals[i])\n",
    "}\n"
   ]
  },
  {
   "cell_type": "markdown",
   "metadata": {},
   "source": [
    "## float\n",
    "Go provides two sizes of floating-point numbers, float32 and float64. Their arithmetic properties are governed by the [IEEE 754](https://en.wikipedia.org/wiki/IEEE_754) standard implemented by all modern CPUs.\n",
    "\n",
    "The IEEE Standard for Floating-Point Arithmetic (IEEE 754) is a technical standard for floating-point arithmetic established in 1985 by the Institute of Electrical and Electronics Engineers (IEEE).\n",
    "\n",
    "The constant math.MaxFloat32, the largest float32, is about 3.4e38, and math.MaxFloat64 is about 1.8e308."
   ]
  },
  {
   "cell_type": "code",
   "execution_count": 1,
   "metadata": {},
   "outputs": [
    {
     "data": {
      "text/plain": [
       "3.4028234663852886e+38"
      ]
     },
     "execution_count": 1,
     "metadata": {},
     "output_type": "execute_result"
    }
   ],
   "source": [
    "import \"math\"\n",
    "\n",
    "math.MaxFloat32"
   ]
  },
  {
   "cell_type": "code",
   "execution_count": 2,
   "metadata": {},
   "outputs": [
    {
     "data": {
      "text/plain": [
       "1.7976931348623157e+308"
      ]
     },
     "execution_count": 2,
     "metadata": {},
     "output_type": "execute_result"
    }
   ],
   "source": [
    "math.MaxFloat64"
   ]
  },
  {
   "cell_type": "markdown",
   "metadata": {},
   "source": [
    "A float32 provides approximately six decimal digits of precision, whereas a float64 provides about 15 digits; float64 should be preferred for most purposes."
   ]
  },
  {
   "cell_type": "code",
   "execution_count": 4,
   "metadata": {},
   "outputs": [
    {
     "name": "stdout",
     "output_type": "stream",
     "text": [
      "x = 0 ex =    1.000\n",
      "x = 1 ex =    2.718\n",
      "x = 2 ex =    7.389\n",
      "x = 3 ex =   20.086\n",
      "x = 4 ex =   54.598\n",
      "x = 5 ex =  148.413\n",
      "x = 6 ex =  403.429\n",
      "x = 7 ex = 1096.633\n"
     ]
    }
   ],
   "source": [
    "import \"fmt\"\n",
    "\n",
    "for x := 0; x < 8; x++ {\n",
    "    fmt.Printf(\"x = %d ex = %8.3f\\n\", x, math.Exp(float64(x)))\n",
    "}"
   ]
  },
  {
   "cell_type": "code",
   "execution_count": 5,
   "metadata": {},
   "outputs": [
    {
     "name": "stdout",
     "output_type": "stream",
     "text": [
      "0 -0 +Inf -Inf NaN\n"
     ]
    },
    {
     "data": {
      "text/plain": [
       "19 <nil>"
      ]
     },
     "execution_count": 5,
     "metadata": {},
     "output_type": "execute_result"
    }
   ],
   "source": [
    "var z float64\n",
    "fmt.Println(z, -z, 1/z, -1/z, z/z) //  \"0 -0 +Inf -Inf NaN\"\n"
   ]
  },
  {
   "cell_type": "markdown",
   "metadata": {},
   "source": [
    "## Surface"
   ]
  },
  {
   "cell_type": "code",
   "execution_count": null,
   "metadata": {},
   "outputs": [],
   "source": [
    "import (\n",
    "    \"fmt\"\n",
    "    \"math\"\n",
    ")\n",
    "\n",
    "const (\n",
    "    width, height = 600, 320            // canvas size in pixels\n",
    "    cells         = 100                 // number of grid cells\n",
    "    xyrange       = 30.0                // axis ranges (-xyrange..+xyrange)\n",
    "    xyscale       = width / 2 / xyrange // pixels per x or y unit\n",
    "    zscale        = height * 0.4        // pixels per z unit\n",
    "    angle         = math.Pi / 6         // angle of x, y axes (=30°)\n",
    ")\n",
    "\n",
    "var sin30, cos30 = math.Sin(angle), math.Cos(angle) // sin(30°), cos(30°)\n",
    "\n",
    "func main() {\n",
    "    fmt.Printf(\"<svg xmlns='http://www.w3.org/2000/svg' \"+\n",
    "        \"style='stroke: grey; fill: white; stroke-width: 0.7' \"+\n",
    "        \"width='%d' height='%d'>\", width, height)\n",
    "    for i := 0; i < cells; i++ {\n",
    "        for j := 0; j < cells; j++ {\n",
    "            ax, ay := corner(i+1, j)\n",
    "            bx, by := corner(i, j)\n",
    "            cx, cy := corner(i, j+1)\n",
    "            dx, dy := corner(i+1, j+1)\n",
    "            fmt.Printf(\"<polygon points='%g,%g %g,%g %g,%g %g,%g'/>\\n\",\n",
    "                ax, ay, bx, by, cx, cy, dx, dy)\n",
    "        }\n",
    "    }\n",
    "    fmt.Println(\"</svg>\")\n",
    "}\n",
    "\n",
    "func corner(i, j int) (float64, float64) {\n",
    "    // Find point (x,y) at corner of cell (i,j).\n",
    "    x := xyrange * (float64(i)/cells - 0.5)\n",
    "    y := xyrange * (float64(j)/cells - 0.5)\n",
    "\n",
    "    // Compute surface height z.\n",
    "    z := f(x, y)\n",
    "\n",
    "    // Project (x,y,z) isometrically onto 2-D SVG canvas (sx,sy).\n",
    "    sx := width/2 + (x-y)*cos30*xyscale\n",
    "    sy := height/2 + (x+y)*sin30*xyscale - z*zscale\n",
    "    return sx, sy\n",
    "}\n",
    "\n",
    "func f(x, y float64) float64 {\n",
    "    r := math.Hypot(x, y) // distance from (0,0)\n",
    "    return math.Sin(r) / r\n",
    "}\n"
   ]
  },
  {
   "cell_type": "markdown",
   "metadata": {},
   "source": [
    "## Booleans"
   ]
  },
  {
   "cell_type": "code",
   "execution_count": 8,
   "metadata": {},
   "outputs": [],
   "source": [
    "var b bool = true\n",
    "var c bool = false"
   ]
  },
  {
   "cell_type": "code",
   "execution_count": 9,
   "metadata": {},
   "outputs": [
    {
     "data": {
      "text/plain": [
       "false"
      ]
     },
     "execution_count": 9,
     "metadata": {},
     "output_type": "execute_result"
    }
   ],
   "source": [
    "b && c"
   ]
  },
  {
   "cell_type": "code",
   "execution_count": 10,
   "metadata": {},
   "outputs": [
    {
     "data": {
      "text/plain": [
       "true"
      ]
     },
     "execution_count": 10,
     "metadata": {},
     "output_type": "execute_result"
    }
   ],
   "source": [
    "b || c"
   ]
  },
  {
   "cell_type": "markdown",
   "metadata": {},
   "source": [
    "## Strings"
   ]
  },
  {
   "cell_type": "code",
   "execution_count": 14,
   "metadata": {},
   "outputs": [],
   "source": [
    "s := \"hello, world\""
   ]
  },
  {
   "cell_type": "code",
   "execution_count": 15,
   "metadata": {},
   "outputs": [
    {
     "data": {
      "text/plain": [
       "12"
      ]
     },
     "execution_count": 15,
     "metadata": {},
     "output_type": "execute_result"
    }
   ],
   "source": [
    "len(s)"
   ]
  },
  {
   "cell_type": "code",
   "execution_count": 16,
   "metadata": {},
   "outputs": [
    {
     "name": "stdout",
     "output_type": "stream",
     "text": [
      "104 119\n"
     ]
    },
    {
     "data": {
      "text/plain": [
       "8 <nil>"
      ]
     },
     "execution_count": 16,
     "metadata": {},
     "output_type": "execute_result"
    }
   ],
   "source": [
    "fmt.Println(s[0], s[7]) // \"104 119\"  ('h' and 'w')"
   ]
  },
  {
   "cell_type": "code",
   "execution_count": 18,
   "metadata": {},
   "outputs": [
    {
     "data": {
      "text/plain": [
       "104"
      ]
     },
     "execution_count": 18,
     "metadata": {},
     "output_type": "execute_result"
    }
   ],
   "source": [
    "s[0]"
   ]
  },
  {
   "cell_type": "code",
   "execution_count": 21,
   "metadata": {},
   "outputs": [
    {
     "data": {
      "text/plain": [
       "uint8"
      ]
     },
     "execution_count": 21,
     "metadata": {},
     "output_type": "execute_result"
    }
   ],
   "source": [
    "import \"reflect\"\n",
    "\n",
    "reflect.TypeOf(s[0]).String()"
   ]
  },
  {
   "cell_type": "code",
   "execution_count": 19,
   "metadata": {},
   "outputs": [
    {
     "data": {
      "text/plain": [
       "h"
      ]
     },
     "execution_count": 19,
     "metadata": {},
     "output_type": "execute_result"
    }
   ],
   "source": [
    "string(s[0])"
   ]
  },
  {
   "cell_type": "code",
   "execution_count": 23,
   "metadata": {},
   "outputs": [],
   "source": [
    "// https://golang.org/pkg/strings/\n",
    "import \"strings\""
   ]
  },
  {
   "cell_type": "code",
   "execution_count": 24,
   "metadata": {},
   "outputs": [
    {
     "data": {
      "text/plain": [
       "true"
      ]
     },
     "execution_count": 24,
     "metadata": {},
     "output_type": "execute_result"
    }
   ],
   "source": [
    "strings.Contains(\"abcd\", \"b\")"
   ]
  },
  {
   "cell_type": "code",
   "execution_count": 25,
   "metadata": {},
   "outputs": [
    {
     "data": {
      "text/plain": [
       "true"
      ]
     },
     "execution_count": 25,
     "metadata": {},
     "output_type": "execute_result"
    }
   ],
   "source": [
    "strings.HasPrefix(\"abcd\", \"ab\")"
   ]
  },
  {
   "cell_type": "code",
   "execution_count": 26,
   "metadata": {},
   "outputs": [
    {
     "data": {
      "text/plain": [
       "true"
      ]
     },
     "execution_count": 26,
     "metadata": {},
     "output_type": "execute_result"
    }
   ],
   "source": [
    "strings.HasSuffix(\"abcd\", \"cd\")"
   ]
  },
  {
   "cell_type": "code",
   "execution_count": 27,
   "metadata": {},
   "outputs": [
    {
     "data": {
      "text/plain": [
       "0"
      ]
     },
     "execution_count": 27,
     "metadata": {},
     "output_type": "execute_result"
    }
   ],
   "source": [
    "strings.Compare(\"abcd\", \"abcd\")"
   ]
  },
  {
   "cell_type": "code",
   "execution_count": 29,
   "metadata": {},
   "outputs": [
    {
     "data": {
      "text/plain": [
       "-1"
      ]
     },
     "execution_count": 29,
     "metadata": {},
     "output_type": "execute_result"
    }
   ],
   "source": [
    "strings.Compare(\"abcd\", \"abee\")"
   ]
  },
  {
   "cell_type": "markdown",
   "metadata": {},
   "source": [
    "String values are immutable: the byte sequence contained in a string value can never be changed, though of course we can assign a new value to a string variable. To append one string to another, for instance, we can write..."
   ]
  },
  {
   "cell_type": "code",
   "execution_count": 30,
   "metadata": {},
   "outputs": [],
   "source": [
    "s := \"left foot\"\n",
    "t := s\n",
    "s += \", right foot\"\n"
   ]
  },
  {
   "cell_type": "code",
   "execution_count": 31,
   "metadata": {},
   "outputs": [
    {
     "data": {
      "text/plain": [
       "left foot, right foot"
      ]
     },
     "execution_count": 31,
     "metadata": {},
     "output_type": "execute_result"
    }
   ],
   "source": [
    "s"
   ]
  },
  {
   "cell_type": "code",
   "execution_count": 32,
   "metadata": {},
   "outputs": [
    {
     "data": {
      "text/plain": [
       "left foot"
      ]
     },
     "execution_count": 32,
     "metadata": {},
     "output_type": "execute_result"
    }
   ],
   "source": [
    "t"
   ]
  },
  {
   "cell_type": "markdown",
   "metadata": {},
   "source": [
    "Because Go source files are always encoded in UTF-8 and Go text strings are conventionally interpreted as UTF-8, we can include Unicode code points in string literals."
   ]
  },
  {
   "cell_type": "code",
   "execution_count": 35,
   "metadata": {},
   "outputs": [
    {
     "name": "stdout",
     "output_type": "stream",
     "text": [
      "123\n",
      "123\n"
     ]
    },
    {
     "data": {
      "text/plain": [
       "4 <nil>"
      ]
     },
     "execution_count": 35,
     "metadata": {},
     "output_type": "execute_result"
    }
   ],
   "source": [
    "import \"strconv\"\n",
    "\n",
    "x := 123\n",
    "y := fmt.Sprintf(\"%d\", x)\n",
    "fmt.Println(y)\n",
    "\n",
    "fmt.Println(strconv.Itoa(x))"
   ]
  },
  {
   "cell_type": "markdown",
   "metadata": {},
   "source": [
    "## Constants"
   ]
  },
  {
   "cell_type": "code",
   "execution_count": 37,
   "metadata": {},
   "outputs": [],
   "source": [
    "const IPv4Len = 4"
   ]
  },
  {
   "cell_type": "code",
   "execution_count": 38,
   "metadata": {},
   "outputs": [
    {
     "data": {
      "text/plain": [
       "int"
      ]
     },
     "execution_count": 38,
     "metadata": {},
     "output_type": "execute_result"
    }
   ],
   "source": [
    "reflect.TypeOf(IPv4Len).String()"
   ]
  },
  {
   "cell_type": "code",
   "execution_count": 39,
   "metadata": {},
   "outputs": [
    {
     "ename": "ERROR",
     "evalue": "cannot assign to a const: IPv4Len <untyped.Lit>",
     "output_type": "error",
     "traceback": [
      "cannot assign to a const: IPv4Len <untyped.Lit>"
     ]
    }
   ],
   "source": [
    "IPv4Len = 3  // nope"
   ]
  },
  {
   "cell_type": "markdown",
   "metadata": {},
   "source": [
    "## The Constant Generator iota"
   ]
  },
  {
   "cell_type": "code",
   "execution_count": 40,
   "metadata": {},
   "outputs": [],
   "source": [
    "type Weekday int\n",
    "\n",
    "const (\n",
    "    Sunday Weekday = iota\n",
    "    Monday\n",
    "    Tuesday\n",
    "    Wednesday\n",
    "    Thursday\n",
    "    Friday\n",
    "    Saturday\n",
    ")\n"
   ]
  },
  {
   "cell_type": "code",
   "execution_count": 41,
   "metadata": {},
   "outputs": [
    {
     "data": {
      "text/plain": [
       "0"
      ]
     },
     "execution_count": 41,
     "metadata": {},
     "output_type": "execute_result"
    }
   ],
   "source": [
    "Sunday"
   ]
  },
  {
   "cell_type": "code",
   "execution_count": 42,
   "metadata": {},
   "outputs": [
    {
     "data": {
      "text/plain": [
       "1"
      ]
     },
     "execution_count": 42,
     "metadata": {},
     "output_type": "execute_result"
    }
   ],
   "source": [
    "Monday"
   ]
  },
  {
   "cell_type": "code",
   "execution_count": 43,
   "metadata": {},
   "outputs": [
    {
     "data": {
      "text/plain": [
       "6"
      ]
     },
     "execution_count": 43,
     "metadata": {},
     "output_type": "execute_result"
    }
   ],
   "source": [
    "Saturday"
   ]
  },
  {
   "cell_type": "markdown",
   "metadata": {},
   "source": [
    "***"
   ]
  }
 ],
 "metadata": {
  "kernelspec": {
   "display_name": "Go",
   "language": "go",
   "name": "gophernotes"
  },
  "language_info": {
   "codemirror_mode": "",
   "file_extension": ".go",
   "mimetype": "",
   "name": "go",
   "nbconvert_exporter": "",
   "pygments_lexer": "",
   "version": "go1.11.4"
  }
 },
 "nbformat": 4,
 "nbformat_minor": 2
}
