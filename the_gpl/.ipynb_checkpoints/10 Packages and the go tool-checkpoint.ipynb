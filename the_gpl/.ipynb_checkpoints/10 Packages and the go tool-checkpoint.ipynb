{
 "cells": [
  {
   "cell_type": "markdown",
   "metadata": {},
   "source": [
    "## Packages and the go tool\n",
    "\n",
    "Each package defines a distinct name space that encloses its identifiers. Each name is associated with a particular package, letting us choose short, clear names for the types, functions, and so on that we use most often, without creating conflicts with other parts of the program.\n",
    "\n",
    "When we change a file, we must recompile the file’s package and potentially all the packages that depend on it. Go compilation is notably faster than most other compiled languages, even when building from scratch.\n",
    "\n",
    "For packages you intend to share or publish, import paths should be globally unique. To avoid conflicts, the import paths of all packages other than those from the standard library should start with the Internet domain name of the organization that owns or hosts the package; this also makes it possible to find packages.\n",
    "\n",
    "A package declaration is required at the start of every Go source file. Its main purpose is to determine the default identifier for that package (called the package name) when it is imported by another package.\n",
    "\n",
    "A Go source file may contain zero or more import declarations immediately after the package declaration and before the first non-import declaration. Each import declaration may specify the import path of a single package, or multiple packages in a parenthesized list.\n",
    "\n",
    "When creating a package, keep its name short, but not so short as to be cryptic. The most frequently used packages in the standard library are named bufio, bytes, flag, fmt, http, io, json, os, sort, sync, and time. Be descriptive and unambiguous where possible."
   ]
  },
  {
   "cell_type": "markdown",
   "metadata": {},
   "source": [
    "## The Go Tool\n",
    "\n",
    "C:\\Users\\simon.garisch\\Desktop\\git\\golang_stuff\\the_gpl>go\n",
    "\n",
    "Go is a tool for managing Go source code.\n",
    "\n",
    "Usage:\n",
    "\n",
    "        go <command> [arguments]\n",
    "\n",
    "The commands are:\n",
    "\n",
    "        bug         start a bug report\n",
    "        build       compile packages and dependencies\n",
    "        clean       remove object files and cached files\n",
    "        doc         show documentation for package or symbol\n",
    "        env         print Go environment information\n",
    "        fix         update packages to use new APIs\n",
    "        fmt         gofmt (reformat) package sources\n",
    "        generate    generate Go files by processing source\n",
    "        get         add dependencies to current module and install them\n",
    "        install     compile and install packages and dependencies\n",
    "        list        list packages or modules\n",
    "        mod         module maintenance\n",
    "        run         compile and run Go program\n",
    "        test        test packages\n",
    "        tool        run specified go tool\n",
    "        version     print Go version\n",
    "        vet         report likely mistakes in packages"
   ]
  },
  {
   "cell_type": "markdown",
   "metadata": {},
   "source": [
    "***"
   ]
  }
 ],
 "metadata": {
  "kernelspec": {
   "display_name": "Go",
   "language": "go",
   "name": "gophernotes"
  },
  "language_info": {
   "codemirror_mode": "",
   "file_extension": ".go",
   "mimetype": "",
   "name": "go",
   "nbconvert_exporter": "",
   "pygments_lexer": "",
   "version": "go1.11.4"
  }
 },
 "nbformat": 4,
 "nbformat_minor": 2
}
