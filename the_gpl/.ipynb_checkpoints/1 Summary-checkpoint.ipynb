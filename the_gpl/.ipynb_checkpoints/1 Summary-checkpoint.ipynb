{
 "cells": [
  {
   "cell_type": "markdown",
   "metadata": {},
   "source": [
    "## Summary\n",
    "\n",
    "The Go project includes the language itself, its tools and standard libraries, and last but not least, a cultural agenda of radical simplicity."
   ]
  },
  {
   "cell_type": "code",
   "execution_count": 1,
   "metadata": {},
   "outputs": [
    {
     "name": "stdout",
     "output_type": "stream",
     "text": [
      "Hello, World!\n"
     ]
    }
   ],
   "source": [
    "import \"fmt\"\n",
    "\n",
    "func main(){\n",
    "    fmt.Println(\"Hello, World!\")\n",
    "}\n",
    "\n",
    "main()"
   ]
  },
  {
   "cell_type": "markdown",
   "metadata": {},
   "source": [
    "The main function with args..."
   ]
  },
  {
   "cell_type": "code",
   "execution_count": 2,
   "metadata": {},
   "outputs": [
    {
     "name": "stdout",
     "output_type": "stream",
     "text": [
      "<nil>\n"
     ]
    },
    {
     "data": {
      "text/plain": [
       "6 <nil>"
      ]
     },
     "execution_count": 2,
     "metadata": {},
     "output_type": "execute_result"
    }
   ],
   "source": [
    "import \"io/ioutil\"\n",
    "\n",
    "code := `\n",
    "package main\n",
    "\n",
    "import (\n",
    "    \"fmt\"\n",
    "    \"os\"\n",
    ")\n",
    "\n",
    "func main() {\n",
    "    var s, sep string\n",
    "    for i := 1; i < len(os.Args); i++ {\n",
    "        s += sep + os.Args[i]\n",
    "        sep = \" \"\n",
    "    }\n",
    "    fmt.Println(s)\n",
    "}\n",
    "`\n",
    "\n",
    "data := []byte(code)\n",
    "err := ioutil.WriteFile(\"/bin/main_with_args.go\", data, 0644)\n",
    "fmt.Println(err)"
   ]
  },
  {
   "cell_type": "code",
   "execution_count": 3,
   "metadata": {},
   "outputs": [],
   "source": [
    "// ! go run main_with_args.go these are some args"
   ]
  },
  {
   "cell_type": "markdown",
   "metadata": {},
   "source": [
    "Go does not permit unused local variables, so this would result in a compilation error. The solution is to use the blank identifier, whose name is _ (that is, an underscore)."
   ]
  },
  {
   "cell_type": "markdown",
   "metadata": {},
   "source": [
    "## Finding duplicate lines"
   ]
  },
  {
   "cell_type": "code",
   "execution_count": 4,
   "metadata": {},
   "outputs": [
    {
     "name": "stdout",
     "output_type": "stream",
     "text": [
      "2\tand yet another line\n"
     ]
    }
   ],
   "source": [
    "import (\n",
    "    \"fmt\"\n",
    "    \"strings\"\n",
    ")\n",
    "\n",
    "var text string = `\n",
    "here is some text\n",
    "and another line...\n",
    "and yet another line\n",
    "and yet another line\n",
    "`\n",
    "\n",
    "func main() {\n",
    "    counts := make(map[string]int)\n",
    "    splitText := strings.Split(text, \"\\n\")\n",
    "\n",
    "    \n",
    "    for _, line := range splitText {\n",
    "        line = strings.TrimSpace(line)\n",
    "        if line == \"\" {\n",
    "            continue\n",
    "        }\n",
    "        counts[line]++\n",
    "    }\n",
    "    \n",
    "    for line, n := range counts {\n",
    "        if n > 1 {\n",
    "            fmt.Printf(\"%d\\t%s\\n\", n, line)\n",
    "        }\n",
    "    }\n",
    "}\n",
    "\n",
    "main()"
   ]
  },
  {
   "cell_type": "markdown",
   "metadata": {},
   "source": [
    "It’s not a problem if the map doesn’t yet contain that key. The first time a new line is seen, the expression counts[line] on the right-hand side evaluates to the zero value for its type, which is 0 for int.\n",
    "\n",
    "Let's write this string output to a new file..."
   ]
  },
  {
   "cell_type": "code",
   "execution_count": 6,
   "metadata": {},
   "outputs": [],
   "source": [
    "err := ioutil.WriteFile(\"/bin/etext.txt\", []byte(text), 0644)\n",
    "if err != nil {\n",
    "    panic(err)\n",
    "}"
   ]
  },
  {
   "cell_type": "code",
   "execution_count": null,
   "metadata": {},
   "outputs": [],
   "source": [
    "func countLines(f *os.File, counts map[string]int) {\n",
    "    input := bufio.NewScanner(f)\n",
    "    for input.Scan() {\n",
    "        counts[input.Text()]++\n",
    "    }\n",
    "}\n"
   ]
  },
  {
   "cell_type": "markdown",
   "metadata": {},
   "source": [
    "We can open this file."
   ]
  },
  {
   "cell_type": "code",
   "execution_count": 10,
   "metadata": {},
   "outputs": [
    {
     "name": "stdout",
     "output_type": "stream",
     "text": [
      "*os.File\n"
     ]
    },
    {
     "data": {
      "text/plain": [
       "9 <nil>"
      ]
     },
     "execution_count": 10,
     "metadata": {},
     "output_type": "execute_result"
    }
   ],
   "source": [
    "import (\n",
    "    \"fmt\"\n",
    "    \"os\"\n",
    ")\n",
    "\n",
    "f, err := os.Open(\"/bin/etext.txt\")\n",
    "if err != nil {\n",
    "    panic(err)\n",
    "}\n",
    "\n",
    "\n",
    "fmt.Printf(\"%T\\n\", f)  // print the type - pointer to os.File"
   ]
  },
  {
   "cell_type": "markdown",
   "metadata": {},
   "source": [
    "And read it..."
   ]
  },
  {
   "cell_type": "code",
   "execution_count": 13,
   "metadata": {},
   "outputs": [],
   "source": [
    "import \"bufio\"\n",
    "\n",
    "func countLines(f *os.File, counts map[string]int) {\n",
    "    input := bufio.NewScanner(f)\n",
    "    for input.Scan() {\n",
    "        counts[input.Text()]++\n",
    "    }\n",
    "    \n",
    "}\n",
    "\n",
    "counts := make(map[string]int)\n",
    "countLines(f, counts)"
   ]
  },
  {
   "cell_type": "code",
   "execution_count": 14,
   "metadata": {},
   "outputs": [
    {
     "data": {
      "text/plain": [
       "map[:1 here is some text:1 and another line...:1 and yet another line:2]"
      ]
     },
     "execution_count": 14,
     "metadata": {},
     "output_type": "execute_result"
    }
   ],
   "source": [
    "counts"
   ]
  },
  {
   "cell_type": "code",
   "execution_count": 18,
   "metadata": {},
   "outputs": [
    {
     "data": {
      "text/plain": [
       "1"
      ]
     },
     "execution_count": 18,
     "metadata": {},
     "output_type": "execute_result"
    }
   ],
   "source": [
    "count, ok := counts[\"here is some text\"]\n",
    "count"
   ]
  },
  {
   "cell_type": "code",
   "execution_count": 19,
   "metadata": {},
   "outputs": [
    {
     "data": {
      "text/plain": [
       "true"
      ]
     },
     "execution_count": 19,
     "metadata": {},
     "output_type": "execute_result"
    }
   ],
   "source": [
    "ok"
   ]
  },
  {
   "cell_type": "code",
   "execution_count": 20,
   "metadata": {},
   "outputs": [
    {
     "data": {
      "text/plain": [
       "2 true"
      ]
     },
     "execution_count": 20,
     "metadata": {},
     "output_type": "execute_result"
    }
   ],
   "source": [
    "counts[\"and yet another line\"]"
   ]
  },
  {
   "cell_type": "markdown",
   "metadata": {},
   "source": [
    "## Animated GIFs"
   ]
  },
  {
   "cell_type": "code",
   "execution_count": null,
   "metadata": {},
   "outputs": [],
   "source": [
    "// gifs.go run this locally rather than in a docker container with gophernotes\n",
    "// see the results on localhost:8000\n",
    "package main\n",
    "\n",
    "import (\n",
    "    \"image\"\n",
    "    \"image/color\"\n",
    "    \"image/gif\"\n",
    "    \"io\"\n",
    "    \"math\"\n",
    "    \"math/rand\"\n",
    ")\n",
    "\n",
    "// Packages not needed by version in book.\n",
    "import (\n",
    "    \"log\"\n",
    "    \"net/http\"\n",
    ")\n",
    "\n",
    "var palette = []color.Color{color.White, color.Black}\n",
    "\n",
    "const (\n",
    "    whiteIndex = 0 // first color in palette\n",
    "    blackIndex = 1 // next color in palette\n",
    ")\n",
    "\n",
    "func main() {\n",
    "    handler := func(w http.ResponseWriter, r *http.Request) {\n",
    "        lissajous(w)\n",
    "    }\n",
    "    http.HandleFunc(\"/\", handler)\n",
    "    log.Fatal(http.ListenAndServe(\"localhost:8000\", nil))\n",
    "}\n",
    "\n",
    "func lissajous(out io.Writer) {\n",
    "    const (\n",
    "        cycles  = 5     // number of complete x oscillator revolutions\n",
    "        res     = 0.001 // angular resolution\n",
    "        size    = 100   // image canvas covers [-size..+size]\n",
    "        nframes = 64    // number of animation frames\n",
    "        delay   = 8     // delay between frames in 10ms units\n",
    "    )\n",
    "    freq := rand.Float64() * 3.0 // relative frequency of y oscillator\n",
    "    anim := gif.GIF{LoopCount: nframes}\n",
    "    phase := 0.0 // phase difference\n",
    "    for i := 0; i < nframes; i++ {\n",
    "        rect := image.Rect(0, 0, 2*size+1, 2*size+1)\n",
    "        img := image.NewPaletted(rect, palette)\n",
    "        for t := 0.0; t < cycles*2*math.Pi; t += res {\n",
    "            x := math.Sin(t)\n",
    "            y := math.Sin(t*freq + phase)\n",
    "            img.SetColorIndex(size+int(x*size+0.5), size+int(y*size+0.5), blackIndex)\n",
    "        }\n",
    "        phase += 0.1\n",
    "        anim.Delay = append(anim.Delay, delay)\n",
    "        anim.Image = append(anim.Image, img)\n",
    "    }\n",
    "    gif.EncodeAll(out, &anim) // NOTE: ignoring encoding errors\n",
    "}"
   ]
  },
  {
   "cell_type": "markdown",
   "metadata": {},
   "source": [
    "## Fetching a url"
   ]
  },
  {
   "cell_type": "code",
   "execution_count": null,
   "metadata": {},
   "outputs": [],
   "source": [
    "import (\n",
    "    \"fmt\"\n",
    "    \"io/ioutil\"\n",
    "    \"net/http\"\n",
    "    \"os\"\n",
    ")\n",
    "\n",
    "var urls = []string{\n",
    "    \"https://www.google.com/\",\n",
    "    \"https://github.com/\",\n",
    "}\n",
    "\n",
    "func main() {\n",
    "    for _, url := range urls {\n",
    "        resp, err := http.Get(url)\n",
    "        if err != nil {\n",
    "            fmt.Fprintf(os.Stderr, \"fetch: %v\\n\", err)\n",
    "            os.Exit(1)\n",
    "        }\n",
    "        b, err := ioutil.ReadAll(resp.Body)\n",
    "        resp.Body.Close()\n",
    "        if err != nil {\n",
    "            fmt.Fprintf(os.Stderr, \"fetch: reading %s: %v\\n\", url, err)\n",
    "            os.Exit(1)\n",
    "        }\n",
    "        fmt.Printf(\"%s\", b)\n",
    "    }\n",
    "}\n",
    "\n",
    "main()"
   ]
  },
  {
   "cell_type": "markdown",
   "metadata": {},
   "source": [
    "## Fetching URLs concurrently"
   ]
  },
  {
   "cell_type": "code",
   "execution_count": 8,
   "metadata": {},
   "outputs": [
    {
     "name": "stdout",
     "output_type": "stream",
     "text": [
      "0.08s  131105 https://github.com/ true\n",
      "0.16s   13237 https://www.google.com/ true\n",
      "0.16s elapsed\n"
     ]
    }
   ],
   "source": [
    "import (\n",
    "    \"fmt\"\n",
    "    \"io\"\n",
    "    \"io/ioutil\"\n",
    "    \"net/http\"\n",
    "    \"os\"\n",
    "    \"time\"\n",
    ")\n",
    "\n",
    "var urls = []string{\n",
    "    \"https://www.google.com/\",\n",
    "    \"https://github.com/\",\n",
    "}\n",
    "\n",
    "func main(){\n",
    "    start := time.Now()\n",
    "    ch := make(chan string)\n",
    "    for _, url := range(urls){\n",
    "        go fetch(url, ch)  // start a goroutine\n",
    "    }\n",
    "    \n",
    "    for range urls {\n",
    "        fmt.Println(<-ch)\n",
    "    }\n",
    "    \n",
    "    fmt.Printf(\"%0.2fs elapsed\\n\", time.Since(start).Seconds())\n",
    "}\n",
    "\n",
    "func fetch(url string, ch chan<- string){\n",
    "    start := time.Now()\n",
    "    resp, err := http.Get(url)\n",
    "    if err != nil {\n",
    "        ch <- fmt.Sprint(err) // send to channel ch\n",
    "        return\n",
    "    }\n",
    "    \n",
    "    nbytes, err := io.Copy(ioutil.Discard, resp.Body)\n",
    "    resp.Body.Close()\n",
    "    if err != nil {\n",
    "        ch <- fmt.Sprintf(\"while reading %s: %v\", url, err)\n",
    "        return\n",
    "    }\n",
    "    \n",
    "    secs := time.Since(start).Seconds()\n",
    "    ch <- fmt.Sprintf(\"%0.2fs %7d %s\", secs, nbytes, url)\n",
    "}\n",
    "\n",
    "main()"
   ]
  },
  {
   "cell_type": "markdown",
   "metadata": {},
   "source": [
    "## A web server\n",
    "\n",
    "This is best run locally."
   ]
  },
  {
   "cell_type": "code",
   "execution_count": null,
   "metadata": {},
   "outputs": [],
   "source": [
    "// server1.go\n",
    "package main\n",
    "\n",
    "import (\n",
    "    \"fmt\"\n",
    "    \"log\"\n",
    "    \"net/http\"\n",
    ")\n",
    "\n",
    "func main() {\n",
    "    http.HandleFunc(\"/\", handler) // each request calls handler\n",
    "    log.Fatal(http.ListenAndServe(\"localhost:8000\", nil))\n",
    "}\n",
    "\n",
    "// handler echoes the Path component of the requested URL.\n",
    "func handler(w http.ResponseWriter, r *http.Request) {\n",
    "    fmt.Fprintf(w, \"URL.Path = %q\\n\", r.URL.Path)\n",
    "}"
   ]
  },
  {
   "cell_type": "code",
   "execution_count": null,
   "metadata": {},
   "outputs": [],
   "source": [
    "// server2.go\n",
    "package main\n",
    "\n",
    "import (\n",
    "    \"fmt\"\n",
    "    \"log\"\n",
    "    \"net/http\"\n",
    "    \"sync\"\n",
    ")\n",
    "\n",
    "var mu sync.Mutex\n",
    "var count int\n",
    "\n",
    "func main() {\n",
    "    http.HandleFunc(\"/\", handler)\n",
    "    http.HandleFunc(\"/count\", counter)\n",
    "    log.Fatal(http.ListenAndServe(\"localhost:8000\", nil))\n",
    "}\n",
    "\n",
    "// handler echoes the Path component of the requested URL.\n",
    "func handler(w http.ResponseWriter, r *http.Request) {\n",
    "    mu.Lock()\n",
    "    count++\n",
    "    mu.Unlock()\n",
    "    fmt.Fprintf(w, \"URL.Path = %q\\n\", r.URL.Path)\n",
    "}\n",
    "\n",
    "// counter echoes the number of calls so far.\n",
    "func counter(w http.ResponseWriter, r *http.Request) {\n",
    "    mu.Lock()\n",
    "    fmt.Fprintf(w, \"Count %d\\n\", count)\n",
    "    mu.Unlock()\n",
    "}"
   ]
  },
  {
   "cell_type": "code",
   "execution_count": null,
   "metadata": {},
   "outputs": [],
   "source": [
    "// server3.go\n",
    "package main\n",
    "\n",
    "import (\n",
    "    \"fmt\"\n",
    "    \"log\"\n",
    "    \"net/http\"\n",
    ")\n",
    "\n",
    "func main() {\n",
    "    http.HandleFunc(\"/\", handler)\n",
    "    log.Fatal(http.ListenAndServe(\"localhost:8000\", nil))\n",
    "}\n",
    "\n",
    "func handler(w http.ResponseWriter, r *http.Request) {\n",
    "    fmt.Fprintf(w, \"%s %s %s\\n\", r.Method, r.URL, r.Proto)\n",
    "    for k, v := range r.Header {\n",
    "        fmt.Fprintf(w, \"Header[%q] = %q\\n\", k, v)\n",
    "    }\n",
    "    fmt.Fprintf(w, \"Host = %q\\n\", r.Host)\n",
    "    fmt.Fprintf(w, \"RemoteAddr = %q\\n\", r.RemoteAddr)\n",
    "    if err := r.ParseForm(); err != nil {\n",
    "        log.Print(err)\n",
    "    }\n",
    "    for k, v := range r.Form {\n",
    "        fmt.Fprintf(w, \"Form[%q] = %q\\n\", k, v)\n",
    "    }\n",
    "}"
   ]
  },
  {
   "cell_type": "markdown",
   "metadata": {},
   "source": [
    "***"
   ]
  }
 ],
 "metadata": {
  "kernelspec": {
   "display_name": "Go",
   "language": "go",
   "name": "gophernotes"
  },
  "language_info": {
   "codemirror_mode": "",
   "file_extension": ".go",
   "mimetype": "",
   "name": "go",
   "nbconvert_exporter": "",
   "pygments_lexer": "",
   "version": "go1.11.4"
  }
 },
 "nbformat": 4,
 "nbformat_minor": 2
}
