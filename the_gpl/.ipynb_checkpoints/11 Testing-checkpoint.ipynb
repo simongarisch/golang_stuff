{
 "cells": [
  {
   "cell_type": "markdown",
   "metadata": {},
   "source": [
    "## Testing\n",
    "A great deal of effort has been spent on techniques to make this complexity manageable. Two techniques in particular stand out for their effectiveness. The first is routine peer review of programs before they are deployed. The second, the subject of this chapter, is testing.\n",
    "\n",
    "The field of software testing is enormous. The task of testing occupies all programmers some of the time and some programmers all of the time. The literature on testing includes thousands of printed books and millions of words of blog posts. In every mainstream programming language, there are dozens of software packages intended for test construction, some with a great deal of theory, and the field seems to attract more than a few prophets with cult-like followings.\n",
    "\n",
    "In practice, writing test code is not much different from writing the original program itself. We write short functions that focus on one part of the task."
   ]
  },
  {
   "cell_type": "markdown",
   "metadata": {},
   "source": [
    "## The go test Tool\n",
    "Within *_test.go files, three kinds of functions are treated specially: tests, benchmarks, and examples.\n",
    "\n",
    "Within *_test.go files, three kinds of functions are treated specially: tests, benchmarks, and examples. A test function, which is a function whose name begins with Test, exercises some program logic for correct behavior; go test calls the test function and reports the result, which is either PASS or FAIL. A benchmark function has a name beginning with Benchmark and measures the performance of some operation; go test reports the mean execution time of the operation. And an example function, whose name starts with Example, provides machine-checked documentation."
   ]
  },
  {
   "cell_type": "code",
   "execution_count": 1,
   "metadata": {},
   "outputs": [],
   "source": [
    "// IsPalindrome reports whether s reads the same forward and backward.\n",
    "// (Our first attempt.)\n",
    "func IsPalindrome(s string) bool {\n",
    "    for i := range s {\n",
    "        if s[i] != s[len(s)-1-i] {\n",
    "            return false\n",
    "        }\n",
    "    }\n",
    "    return true\n",
    "}"
   ]
  },
  {
   "cell_type": "code",
   "execution_count": 2,
   "metadata": {},
   "outputs": [],
   "source": [
    "import \"testing\"\n",
    "\n",
    "func TestPalindrome(t *testing.T) {\n",
    "    if !IsPalindrome(\"detartrated\") {\n",
    "        t.Error(`IsPalindrome(\"detartrated\") = false`)\n",
    "    }\n",
    "    if !IsPalindrome(\"kayak\") {\n",
    "        t.Error(`IsPalindrome(\"kayak\") = false`)\n",
    "    }\n",
    "}\n",
    "\n",
    "func TestNonPalindrome(t *testing.T) {\n",
    "    if IsPalindrome(\"palindrome\") {\n",
    "        t.Error(`IsPalindrome(\"palindrome\") = true`)\n",
    "    }\n",
    "}"
   ]
  },
  {
   "cell_type": "code",
   "execution_count": 5,
   "metadata": {},
   "outputs": [],
   "source": [
    "var t *testing.T"
   ]
  },
  {
   "cell_type": "code",
   "execution_count": 10,
   "metadata": {},
   "outputs": [],
   "source": [
    "TestPalindrome(t)\n",
    "TestNonPalindrome(t)  // tests pass... nothing fires"
   ]
  },
  {
   "cell_type": "markdown",
   "metadata": {},
   "source": [
    "It's good practice to write the test first and observe that it triggers the same failure described by the user's bug report. Only then can we be confident that whatever fix we come up with addresses the right problem."
   ]
  },
  {
   "cell_type": "code",
   "execution_count": 13,
   "metadata": {},
   "outputs": [],
   "source": [
    "func TestIsPalindrome(t *testing.T) {\n",
    "    var tests = []struct {\n",
    "        input string\n",
    "        want  bool\n",
    "    }{\n",
    "        {\"\", true},\n",
    "        {\"a\", true},\n",
    "        {\"aa\", true},\n",
    "        {\"ab\", false},\n",
    "        {\"kayak\", true},\n",
    "        {\"detartrated\", true},\n",
    "        {\"palindrome\", false}, // non-palindrome\n",
    "        {\"desserts\", false},   // semi-palindrome\n",
    "    }\n",
    "    for _, test := range tests {\n",
    "        if got := IsPalindrome(test.input); got != test.want {\n",
    "            t.Errorf(\"IsPalindrome(%q) = %v\", test.input, got)\n",
    "        }\n",
    "    }\n",
    "}\n"
   ]
  },
  {
   "cell_type": "code",
   "execution_count": 14,
   "metadata": {},
   "outputs": [],
   "source": [
    "TestIsPalindrome(t)"
   ]
  },
  {
   "cell_type": "markdown",
   "metadata": {},
   "source": [
    "## Coverage\n",
    "By its nature, testing is never complete. As the influential computer scientist Edsger Dijkstra put it, \"Testing shows the presence, not the absence of bugs.\" No quantity of tests can ever prove a package free of bugs. At best, they increase our confidence that the package works well in a wide range of important scenarios.\n",
    "\n",
    "We can use Go’s cover tool, which is integrated into go test, to measure statement coverage and help identify obvious gaps in the tests.\n",
    "\n",
    "go test -coverprofile=c.out && go tool cover -html=c.out"
   ]
  },
  {
   "cell_type": "markdown",
   "metadata": {},
   "source": [
    "***"
   ]
  }
 ],
 "metadata": {
  "kernelspec": {
   "display_name": "Go",
   "language": "go",
   "name": "gophernotes"
  },
  "language_info": {
   "codemirror_mode": "",
   "file_extension": ".go",
   "mimetype": "",
   "name": "go",
   "nbconvert_exporter": "",
   "pygments_lexer": "",
   "version": "go1.11.4"
  }
 },
 "nbformat": 4,
 "nbformat_minor": 2
}
