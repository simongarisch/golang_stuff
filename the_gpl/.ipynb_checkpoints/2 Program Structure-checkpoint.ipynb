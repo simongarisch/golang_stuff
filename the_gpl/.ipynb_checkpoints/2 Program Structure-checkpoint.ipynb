{
 "cells": [
  {
   "cell_type": "markdown",
   "metadata": {},
   "source": [
    "## Program Structure\n",
    "\n",
    "Stylistically, Go programmers use 'camel case' when forming names by combining words; that is, interior capital letters are preferred over interior underscores."
   ]
  },
  {
   "cell_type": "code",
   "execution_count": 1,
   "metadata": {},
   "outputs": [
    {
     "name": "stdout",
     "output_type": "stream",
     "text": [
      "boiling point = 212°F or 100°C\n"
     ]
    }
   ],
   "source": [
    "import \"fmt\"\n",
    "\n",
    "const boilingF = 212.0\n",
    "\n",
    "func main() {\n",
    "    var f = boilingF\n",
    "    var c = (f - 32) * 5 / 9\n",
    "    fmt.Printf(\"boiling point = %g°F or %g°C\\n\", f, c)\n",
    "}\n",
    "\n",
    "main()"
   ]
  },
  {
   "cell_type": "markdown",
   "metadata": {},
   "source": [
    "The constant boilingF is a package-level declaration (as is main), whereas the variables f and c are local to the function main. The name of each package-level entity is visible not only throughout the source file that contains its declaration, but throughout all the files of the package. By contrast, local declarations are visible only within the function in which they are declared."
   ]
  },
  {
   "cell_type": "code",
   "execution_count": 3,
   "metadata": {},
   "outputs": [
    {
     "name": "stdout",
     "output_type": "stream",
     "text": [
      "32°F = 0°C\n",
      "212°F = 100°C\n"
     ]
    }
   ],
   "source": [
    "import \"fmt\"\n",
    "\n",
    "func main() {\n",
    "    const freezingF, boilingF = 32.0, 212.0\n",
    "    fmt.Printf(\"%g°F = %g°C\\n\", freezingF, fToC(freezingF)) // \"32°F = 0°C\"\n",
    "    fmt.Printf(\"%g°F = %g°C\\n\", boilingF, fToC(boilingF))   // \"212°F = 100°C\"\n",
    "}\n",
    "\n",
    "func fToC(f float64) float64 {\n",
    "    return (f - 32) * 5 / 9\n",
    "}\n",
    "\n",
    "main()"
   ]
  },
  {
   "cell_type": "markdown",
   "metadata": {},
   "source": [
    "## Variables"
   ]
  },
  {
   "cell_type": "code",
   "execution_count": 5,
   "metadata": {},
   "outputs": [
    {
     "name": "stdout",
     "output_type": "stream",
     "text": [
      "this is a string... there are many like it, but this one is mine\n"
     ]
    },
    {
     "data": {
      "text/plain": [
       "65 <nil>"
      ]
     },
     "execution_count": 5,
     "metadata": {},
     "output_type": "execute_result"
    }
   ],
   "source": [
    "// var name type = expression\n",
    "var s string = \"this is a string... there are many like it, but this one is mine\"\n",
    "\n",
    "fmt.Println(s)"
   ]
  },
  {
   "cell_type": "code",
   "execution_count": 6,
   "metadata": {},
   "outputs": [],
   "source": [
    "var i, j, k int                 // int, int, int\n",
    "var b, f, s = true, 2.3, \"four\" // bool, float64, string"
   ]
  },
  {
   "cell_type": "code",
   "execution_count": 7,
   "metadata": {},
   "outputs": [
    {
     "data": {
      "text/plain": [
       "true"
      ]
     },
     "execution_count": 7,
     "metadata": {},
     "output_type": "execute_result"
    }
   ],
   "source": [
    "b"
   ]
  },
  {
   "cell_type": "code",
   "execution_count": 8,
   "metadata": {},
   "outputs": [
    {
     "data": {
      "text/plain": [
       "2.3"
      ]
     },
     "execution_count": 8,
     "metadata": {},
     "output_type": "execute_result"
    }
   ],
   "source": [
    "f"
   ]
  },
  {
   "cell_type": "code",
   "execution_count": 9,
   "metadata": {},
   "outputs": [
    {
     "data": {
      "text/plain": [
       "four"
      ]
     },
     "execution_count": 9,
     "metadata": {},
     "output_type": "execute_result"
    }
   ],
   "source": [
    "s"
   ]
  },
  {
   "cell_type": "code",
   "execution_count": 10,
   "metadata": {},
   "outputs": [
    {
     "data": {
      "text/plain": [
       "bool"
      ]
     },
     "execution_count": 10,
     "metadata": {},
     "output_type": "execute_result"
    }
   ],
   "source": [
    "import \"reflect\"\n",
    "\n",
    "reflect.TypeOf(b).String()"
   ]
  },
  {
   "cell_type": "code",
   "execution_count": 11,
   "metadata": {},
   "outputs": [
    {
     "data": {
      "text/plain": [
       "float64"
      ]
     },
     "execution_count": 11,
     "metadata": {},
     "output_type": "execute_result"
    }
   ],
   "source": [
    "reflect.TypeOf(f).String()"
   ]
  },
  {
   "cell_type": "code",
   "execution_count": 12,
   "metadata": {},
   "outputs": [
    {
     "data": {
      "text/plain": [
       "string"
      ]
     },
     "execution_count": 12,
     "metadata": {},
     "output_type": "execute_result"
    }
   ],
   "source": [
    "reflect.TypeOf(s).String()"
   ]
  },
  {
   "cell_type": "code",
   "execution_count": 17,
   "metadata": {},
   "outputs": [
    {
     "name": "stdout",
     "output_type": "stream",
     "text": [
      "0 1\n"
     ]
    },
    {
     "data": {
      "text/plain": [
       "4 <nil>"
      ]
     },
     "execution_count": 17,
     "metadata": {},
     "output_type": "execute_result"
    }
   ],
   "source": [
    "i, j := 0, 1\n",
    "\n",
    "fmt.Println(i, j)"
   ]
  },
  {
   "cell_type": "markdown",
   "metadata": {},
   "source": [
    "We can swap the values of i and j."
   ]
  },
  {
   "cell_type": "code",
   "execution_count": 18,
   "metadata": {},
   "outputs": [
    {
     "name": "stdout",
     "output_type": "stream",
     "text": [
      "1 0\n"
     ]
    },
    {
     "data": {
      "text/plain": [
       "4 <nil>"
      ]
     },
     "execution_count": 18,
     "metadata": {},
     "output_type": "execute_result"
    }
   ],
   "source": [
    "i, j = j, i\n",
    "fmt.Println(i, j)"
   ]
  },
  {
   "cell_type": "code",
   "execution_count": 20,
   "metadata": {},
   "outputs": [
    {
     "data": {
      "text/plain": [
       "*os.File"
      ]
     },
     "execution_count": 20,
     "metadata": {},
     "output_type": "execute_result"
    }
   ],
   "source": [
    "import (\n",
    "    \"os\"\n",
    "    \"reflect\"\n",
    ")\n",
    "\n",
    "name := \"etext.txt\"\n",
    "f, err := os.Open(name)\n",
    "if err != nil {\n",
    "    panic(err)\n",
    "}\n",
    "\n",
    "// use f\n",
    "f.Close()\n",
    "\n",
    "reflect.TypeOf(f).String()"
   ]
  },
  {
   "cell_type": "markdown",
   "metadata": {},
   "source": [
    "One subtle but important point: a short variable declaration does not necessarily declare all the variables on its left-hand side. If some of them were already declared in the same lexical block, then the short variable declaration acts like an assignment to those variables. However, a short variable declaration must declare at least one new variable."
   ]
  },
  {
   "cell_type": "markdown",
   "metadata": {},
   "source": [
    "## Pointers\n",
    "A pointer value is the address of a variable. A pointer is thus the location at which a value is stored. Not every value has an address, but every variable does."
   ]
  },
  {
   "cell_type": "code",
   "execution_count": 21,
   "metadata": {},
   "outputs": [
    {
     "name": "stdout",
     "output_type": "stream",
     "text": [
      "42\n",
      "21\n",
      "73\n"
     ]
    }
   ],
   "source": [
    "// from 'a tour of go'\n",
    "import \"fmt\"\n",
    "\n",
    "func main() {\n",
    "    i, j := 42, 2701\n",
    "\n",
    "    p := &i         // point to i\n",
    "    fmt.Println(*p) // read i through the pointer (42)\n",
    "    *p = 21         // set i through the pointer\n",
    "    fmt.Println(i)  // see the new value of i (21)\n",
    "\n",
    "    p = &j         // point to j\n",
    "    *p = *p / 37   // divide j through the pointer\n",
    "    fmt.Println(j) // see the new value of j (73)\n",
    "}\n",
    "\n",
    "main()"
   ]
  },
  {
   "cell_type": "code",
   "execution_count": 27,
   "metadata": {},
   "outputs": [
    {
     "name": "stdout",
     "output_type": "stream",
     "text": [
      "{1 2}\n",
      "{7 2}\n"
     ]
    }
   ],
   "source": [
    "// useful for passing by reference\n",
    "import \"fmt\"\n",
    "\n",
    "type Point struct {\n",
    "    X int\n",
    "    Y int\n",
    "}\n",
    "\n",
    "\n",
    "func main(){\n",
    "    point := Point{1, 2}\n",
    "\n",
    "    changeX(point)\n",
    "    fmt.Println(point) // {1 2}, so no change\n",
    "\n",
    "    ptrChangeX(&point)\n",
    "    fmt.Println(point) // {7 2}\n",
    "}\n",
    "\n",
    "func changeX(point Point){\n",
    "    point.X = 7\n",
    "}\n",
    "\n",
    "func ptrChangeX(point *Point){\n",
    "    point.X = 7\n",
    "}\n",
    "\n",
    "\n",
    "main()"
   ]
  },
  {
   "cell_type": "markdown",
   "metadata": {},
   "source": [
    "Another way to create a variable is to use the built-in function new. The expression new(T) creates an unnamed variable of type T, initializes it to the zero value of T, and returns its address, which is a value of type *T."
   ]
  },
  {
   "cell_type": "code",
   "execution_count": 33,
   "metadata": {},
   "outputs": [
    {
     "name": "stdout",
     "output_type": "stream",
     "text": [
      "*struct { X int; Y int }\n",
      "0\n",
      "0\n",
      "*struct { Colour string; IsRustbucket bool }\n",
      "\n",
      "false\n"
     ]
    }
   ],
   "source": [
    "import (\n",
    "    \"fmt\"\n",
    "    \"reflect\"\n",
    ")\n",
    "\n",
    "type Point struct {\n",
    "    X int\n",
    "    Y int\n",
    "}\n",
    "\n",
    "type Car struct {\n",
    "    Colour       string\n",
    "    IsRustbucket bool\n",
    "}\n",
    "\n",
    "func main(){\n",
    "    point := new(Point)\n",
    "    fmt.Println(reflect.TypeOf(point).String())  // *struct { X int; Y int }\n",
    "    fmt.Println(point.X) // 0\n",
    "    fmt.Println(point.Y) // 0\n",
    "\n",
    "    car := new(Car)\n",
    "    fmt.Println(reflect.TypeOf(car).String())  // *struct { Colour string; IsRustbucket bool }\n",
    "    fmt.Println(car.Colour)  // Blank string ''\n",
    "    fmt.Println(car.IsRustbucket)  // false\n",
    "}\n",
    "\n",
    "main()"
   ]
  },
  {
   "cell_type": "markdown",
   "metadata": {},
   "source": [
    "## Assignments"
   ]
  },
  {
   "cell_type": "code",
   "execution_count": 39,
   "metadata": {},
   "outputs": [
    {
     "name": "stdout",
     "output_type": "stream",
     "text": [
      "1 true &{bob 0}\n",
      "[1 4 3 4 5]\n"
     ]
    },
    {
     "data": {
      "text/plain": [
       "12 <nil>"
      ]
     },
     "execution_count": 39,
     "metadata": {},
     "output_type": "execute_result"
    }
   ],
   "source": [
    "var x int\n",
    "x = 1                       // named variable\n",
    "\n",
    "myBool := false\n",
    "p := &myBool\n",
    "*p = true                   // indirect variable\n",
    "\n",
    "type Person struct {\n",
    "    name string\n",
    "    age  int\n",
    "}\n",
    "\n",
    "person := new(Person)\n",
    "person.name = \"bob\"         // struct field\n",
    "\n",
    "\n",
    "count := [5]int{1, 2, 3, 4, 5}\n",
    "scale := 2\n",
    "count[x] = count[x] * scale // array or slice or map element\n",
    "\n",
    "\n",
    "fmt.Println(x, *p, person)  // 1 true &{bob 0}\n",
    "fmt.Println(count)          // [1 4 3 4 5]"
   ]
  },
  {
   "cell_type": "code",
   "execution_count": 40,
   "metadata": {},
   "outputs": [
    {
     "name": "stdout",
     "output_type": "stream",
     "text": [
      "0\n",
      "1\n",
      "1\n",
      "2\n",
      "3\n",
      "5\n",
      "8\n",
      "13\n",
      "21\n",
      "34\n"
     ]
    }
   ],
   "source": [
    "func fib(n int) int {\n",
    "    x, y := 0, 1\n",
    "    for i := 0; i < n; i++ {\n",
    "        x, y = y, x+y  // tuple assignment\n",
    "    }\n",
    "    return x\n",
    "}\n",
    "\n",
    "for i := 0; i < 10; i++ {\n",
    "    fmt.Println(fib(i))\n",
    "}"
   ]
  },
  {
   "cell_type": "code",
   "execution_count": 41,
   "metadata": {},
   "outputs": [
    {
     "name": "stdout",
     "output_type": "stream",
     "text": [
      "[gold silver bronze]\n"
     ]
    },
    {
     "data": {
      "text/plain": [
       "21 <nil>"
      ]
     },
     "execution_count": 41,
     "metadata": {},
     "output_type": "execute_result"
    }
   ],
   "source": [
    "medals := []string{\"gold\", \"silver\", \"bronze\"}\n",
    "\n",
    "fmt.Println(medals)"
   ]
  },
  {
   "cell_type": "markdown",
   "metadata": {},
   "source": [
    "## Type Declarations"
   ]
  },
  {
   "cell_type": "code",
   "execution_count": 43,
   "metadata": {},
   "outputs": [
    {
     "name": "stdout",
     "output_type": "stream",
     "text": [
      "212\n",
      "100\n"
     ]
    }
   ],
   "source": [
    "import \"fmt\"\n",
    "\n",
    "// defines two types, Celsius and Fahrenheit, for the two units of temperature\n",
    "type Celsius float64\n",
    "type Fahrenheit float64\n",
    "\n",
    "const (\n",
    "    AbsoluteZeroC Celsius = -273.15\n",
    "    FreezingC     Celsius = 0\n",
    "    BoilingC      Celsius = 100\n",
    ")\n",
    "\n",
    "func CToF(c Celsius) Fahrenheit { return Fahrenheit(c*9/5 + 32) }\n",
    "\n",
    "func FToC(f Fahrenheit) Celsius { return Celsius((f - 32) * 5 / 9) }\n",
    "\n",
    "func main(){\n",
    "    c := BoilingC\n",
    "    f := CToF(c)\n",
    "    fmt.Println(f) // 212\n",
    "    \n",
    "    fmt.Println(FToC(f)) // 100\n",
    "}\n",
    "\n",
    "main()"
   ]
  },
  {
   "cell_type": "markdown",
   "metadata": {},
   "source": [
    "## Packages and Files"
   ]
  },
  {
   "cell_type": "code",
   "execution_count": null,
   "metadata": {},
   "outputs": [],
   "source": []
  }
 ],
 "metadata": {
  "kernelspec": {
   "display_name": "Go",
   "language": "go",
   "name": "gophernotes"
  },
  "language_info": {
   "codemirror_mode": "",
   "file_extension": ".go",
   "mimetype": "",
   "name": "go",
   "nbconvert_exporter": "",
   "pygments_lexer": "",
   "version": "go1.11.4"
  }
 },
 "nbformat": 4,
 "nbformat_minor": 2
}
