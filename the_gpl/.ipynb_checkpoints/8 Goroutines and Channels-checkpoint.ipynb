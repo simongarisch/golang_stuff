{
 "cells": [
  {
   "cell_type": "markdown",
   "metadata": {},
   "source": [
    "## Goroutines and Channels\n",
    "\n",
    "Go enables two styles of concurrent programming. This chapter presents goroutines and channels, which support communicating sequential processes or CSP, a model of concurrency in which values are passed between independent activities (goroutines) but variables are for the most part confined to a single activity.\n",
    "\n",
    "In Go, each concurrently executing activity is called a goroutine. Consider a program that has two functions, one that does some computation and one that writes some output, and assume that neither function calls the other. A sequential program may call one function and then call the other, but in a concurrent program with two or more goroutines, calls to both functions can be active at the same time."
   ]
  },
  {
   "cell_type": "code",
   "execution_count": 1,
   "metadata": {},
   "outputs": [
    {
     "name": "stdout",
     "output_type": "stream",
     "text": [
      "Fibonacci(35) = 9227465\n"
     ]
    }
   ],
   "source": [
    "// spinner\n",
    "import (\n",
    "    \"fmt\"\n",
    "    \"time\"\n",
    ")\n",
    "\n",
    "func main() {\n",
    "    go spinner(100 * time.Millisecond)\n",
    "    const n = 35\n",
    "    fibN := fib(n) // slow\n",
    "    fmt.Printf(\"\\rFibonacci(%d) = %d\\n\", n, fibN)\n",
    "}\n",
    "\n",
    "func spinner(delay time.Duration) {\n",
    "    for {\n",
    "        for _, r := range `-\\|/` {\n",
    "            fmt.Printf(\"\\r%c\", r)\n",
    "            time.Sleep(delay)\n",
    "        }\n",
    "    }\n",
    "}\n",
    "\n",
    "func fib(x int) int {\n",
    "    if x < 2 {\n",
    "        return x\n",
    "    }\n",
    "    return fib(x-1) + fib(x-2)\n",
    "}\n",
    "\n",
    "main()"
   ]
  },
  {
   "cell_type": "markdown",
   "metadata": {},
   "source": [
    "## Channels\n",
    "If goroutines are the activities of a concurrent Go program, channels are the connections between them.\n",
    "\n",
    "Channels are a typed conduit through which you can send and receive values with the channel operator, <-"
   ]
  },
  {
   "cell_type": "code",
   "execution_count": 2,
   "metadata": {},
   "outputs": [
    {
     "name": "stdout",
     "output_type": "stream",
     "text": [
      "-5 17 12\n"
     ]
    },
    {
     "data": {
      "text/plain": [
       "9 <nil>"
      ]
     },
     "execution_count": 2,
     "metadata": {},
     "output_type": "execute_result"
    }
   ],
   "source": [
    "func sum(s []int, c chan int) {\n",
    "    sum := 0\n",
    "    for _, v := range s {\n",
    "        sum += v\n",
    "    }\n",
    "    c <- sum // send sum to c\n",
    "}\n",
    "\n",
    "s := []int{7, 2, 8, -9, 4, 0}\n",
    "\n",
    "c := make(chan int)\n",
    "go sum(s[:len(s)/2], c)\n",
    "go sum(s[len(s)/2:], c)\n",
    "x, y := <-c, <-c // receive from c\n",
    "fmt.Println(x, y, x + y)"
   ]
  },
  {
   "cell_type": "markdown",
   "metadata": {},
   "source": [
    "A channel has two principal operations, send and receive, collectively known as communications. A send statement transmits a value from one goroutine, through the channel, to another goroutine executing a corresponding receive expression. Both operations are written using the <- operator."
   ]
  },
  {
   "cell_type": "code",
   "execution_count": 3,
   "metadata": {},
   "outputs": [],
   "source": [
    "func calc(i int, c chan int) {\n",
    "    c <- 42 + i\n",
    "}"
   ]
  },
  {
   "cell_type": "code",
   "execution_count": 4,
   "metadata": {},
   "outputs": [
    {
     "name": "stdout",
     "output_type": "stream",
     "text": [
      "47\n",
      "43\n",
      "44\n",
      "45\n",
      "46\n"
     ]
    }
   ],
   "source": [
    "nums := []int{1, 2, 3, 4, 5}\n",
    "c := make(chan int)\n",
    "\n",
    "// send them all for calculation\n",
    "for i:= 0; i<len(nums); i++ {\n",
    "    go calc(nums[i], c)\n",
    "}\n",
    "\n",
    "// get the results back\n",
    "for i:= 0; i<len(nums); i++ {\n",
    "    result := <- c\n",
    "    fmt.Println(result)\n",
    "}"
   ]
  },
  {
   "cell_type": "markdown",
   "metadata": {},
   "source": [
    "Notice that you won't necessarily get results back in the order they were sent.\n",
    "\n",
    "Channels can be buffered. Provide the buffer length as the second argument to make to initialize a buffered channel."
   ]
  },
  {
   "cell_type": "code",
   "execution_count": 5,
   "metadata": {},
   "outputs": [],
   "source": [
    "ch := make(chan int, 100)"
   ]
  },
  {
   "cell_type": "code",
   "execution_count": 6,
   "metadata": {},
   "outputs": [],
   "source": [
    "type Square struct {\n",
    "    Width int\n",
    "}\n",
    "\n",
    "func (s Square) Area() int {\n",
    "    return s.Width * s.Width\n",
    "}"
   ]
  },
  {
   "cell_type": "code",
   "execution_count": 7,
   "metadata": {},
   "outputs": [
    {
     "data": {
      "text/plain": [
       "4"
      ]
     },
     "execution_count": 7,
     "metadata": {},
     "output_type": "execute_result"
    }
   ],
   "source": [
    "s := Square{2}\n",
    "s.Area()"
   ]
  },
  {
   "cell_type": "code",
   "execution_count": 8,
   "metadata": {},
   "outputs": [
    {
     "data": {
      "text/plain": [
       "[{1} {2} {3}]"
      ]
     },
     "execution_count": 8,
     "metadata": {},
     "output_type": "execute_result"
    }
   ],
   "source": [
    "squares := []Square{\n",
    "    Square{1},\n",
    "    Square{2},\n",
    "    Square{3},\n",
    "}\n",
    "\n",
    "squares"
   ]
  },
  {
   "cell_type": "code",
   "execution_count": 9,
   "metadata": {},
   "outputs": [],
   "source": [
    "areas := make(map[Square]int)\n",
    "\n",
    "func recordArea(s Square) {\n",
    "    areas[s] = s.Area()\n",
    "}\n",
    "\n",
    "for _, s := range squares {\n",
    "    recordArea(s)\n",
    "}"
   ]
  },
  {
   "cell_type": "code",
   "execution_count": 10,
   "metadata": {},
   "outputs": [
    {
     "data": {
      "text/plain": [
       "map[{1}:1 {2}:4 {3}:9]"
      ]
     },
     "execution_count": 10,
     "metadata": {},
     "output_type": "execute_result"
    }
   ],
   "source": [
    "areas"
   ]
  },
  {
   "cell_type": "markdown",
   "metadata": {},
   "source": [
    "We can make this concurrent..."
   ]
  },
  {
   "cell_type": "code",
   "execution_count": 5,
   "metadata": {},
   "outputs": [],
   "source": [
    "type Square struct {\n",
    "    Width int\n",
    "}\n",
    "\n",
    "func (s Square) Area() int {\n",
    "    return s.Width * s.Width\n",
    "}"
   ]
  },
  {
   "cell_type": "code",
   "execution_count": 9,
   "metadata": {},
   "outputs": [],
   "source": [
    "// see the results with conc.go\n",
    "import \"fmt\"\n",
    "\n",
    "func recordArea(s Square, areas map[Square]int, c chan bool) {\n",
    "    areas[s] = s.Area()\n",
    "    c <- true\n",
    "}\n",
    "\n",
    "func main() {\n",
    "    squares := []Square{\n",
    "        Square{1},\n",
    "        Square{2},\n",
    "        Square{3},\n",
    "    }\n",
    "\n",
    "    areas := make(map[Square]int)\n",
    "    c := make(chan bool)\n",
    "\n",
    "    for _, s := range squares {\n",
    "        go recordArea(s, areas, c)\n",
    "    }\n",
    "\n",
    "    for i := 0; i < len(squares); i++ {\n",
    "        <-c\n",
    "    }\n",
    "\n",
    "    fmt.Println(areas)\n",
    "}\n"
   ]
  },
  {
   "cell_type": "markdown",
   "metadata": {},
   "source": [
    "## Channel close\n",
    "\n",
    "Closing a channel indicates that no more values will be sent on it. This can be useful to communicate completion to the channel’s receivers."
   ]
  },
  {
   "cell_type": "code",
   "execution_count": 1,
   "metadata": {},
   "outputs": [
    {
     "name": "stdout",
     "output_type": "stream",
     "text": [
      "sent job 1\n",
      "sent job 2\n",
      "sent job 3\n",
      "sent all jobs\n",
      "... j, more ->  1 true\n",
      "received job 1\n",
      "... j, more ->  2 true\n",
      "received job 2\n",
      "... j, more ->  3 true\n",
      "received job 3\n",
      "... j, more ->  0 false\n",
      "received all jobs\n"
     ]
    },
    {
     "data": {
      "text/plain": [
       "true true"
      ]
     },
     "execution_count": 1,
     "metadata": {},
     "output_type": "execute_result"
    }
   ],
   "source": [
    "import \"fmt\"\n",
    "\n",
    "jobs := make(chan int, 5)\n",
    "done := make(chan bool)\n",
    "\n",
    "go func() {\n",
    "    for {\n",
    "        j, more := <-jobs\n",
    "        fmt.Println(\"... j, more -> \", j, more)\n",
    "        if more {\n",
    "            fmt.Println(\"received job\", j)\n",
    "        } else {\n",
    "            fmt.Println(\"received all jobs\")\n",
    "            done <- true\n",
    "            return\n",
    "        }\n",
    "    }\n",
    "}()\n",
    "\n",
    "for j := 1; j <= 3; j++ {\n",
    "    jobs <- j\n",
    "    fmt.Println(\"sent job\", j)\n",
    "}\n",
    "\n",
    "close(jobs)\n",
    "fmt.Println(\"sent all jobs\")\n",
    "\n",
    "<- done"
   ]
  },
  {
   "cell_type": "markdown",
   "metadata": {},
   "source": [
    "Communication over an unbuffered channel causes the sending and receiving goroutines to synchronize. Because of this, unbuffered channels are sometimes called synchronous channels. When a value is sent on an unbuffered channel, the receipt of the value happens before the reawakening of the sending goroutine."
   ]
  },
  {
   "cell_type": "markdown",
   "metadata": {},
   "source": [
    "## Pipelines\n",
    "Channels can be used to connect goroutines together so that the output of one is the input to another. This is called a pipeline."
   ]
  },
  {
   "cell_type": "code",
   "execution_count": 4,
   "metadata": {},
   "outputs": [
    {
     "name": "stdout",
     "output_type": "stream",
     "text": [
      "0\n",
      "1\n",
      "4\n",
      "9\n",
      "16\n",
      "25\n",
      "36\n",
      "49\n",
      "64\n",
      "81\n",
      "100\n"
     ]
    }
   ],
   "source": [
    "import \"fmt\"\n",
    "\n",
    "\n",
    "func main() {\n",
    "    naturals := make(chan int)\n",
    "    squares := make(chan int)\n",
    "\n",
    "    // Counter\n",
    "    go func() {\n",
    "        for x := 0; x<=10; x++ {\n",
    "            naturals <- x\n",
    "        }\n",
    "        close(naturals)\n",
    "    }()\n",
    "\n",
    "    // Squarer\n",
    "    go func() {\n",
    "        for {\n",
    "            x, more := <-naturals\n",
    "            if more == false {\n",
    "                break\n",
    "            }\n",
    "            squares <- x * x\n",
    "        }\n",
    "        close(squares)\n",
    "    }()\n",
    "\n",
    "    // Printer (in main goroutine)\n",
    "    for {\n",
    "        square, more := <- squares\n",
    "        if more == false {\n",
    "            break\n",
    "        }\n",
    "        fmt.Println(square)\n",
    "    }\n",
    "}\n",
    "\n",
    "main()"
   ]
  },
  {
   "cell_type": "markdown",
   "metadata": {},
   "source": [
    "## Unidirectional Channel Types\n",
    "\n",
    "This arrangement is typical. When a channel is supplied as a function parameter, it is nearly always with the intent that it be used exclusively for sending or exclusively for receiving.\n",
    "\n",
    "To document this intent and prevent misuse, the Go type system provides unidirectional channel types that expose only one or the other of the send and receive operations. The type chan<- int, a send-only channel of int, allows sends but not receives. Conversely, the type <-chan int, a receive-only channel of int, allows receives but not sends. (The position of the <- arrow relative to the chan keyword is a mnemonic.)\n",
    "\n",
    "We can modify our previous program to reflect this..."
   ]
  },
  {
   "cell_type": "code",
   "execution_count": 8,
   "metadata": {},
   "outputs": [
    {
     "name": "stdout",
     "output_type": "stream",
     "text": [
      "0\n",
      "1\n",
      "4\n",
      "9\n",
      "16\n",
      "25\n",
      "36\n",
      "49\n",
      "64\n",
      "81\n",
      "100\n"
     ]
    }
   ],
   "source": [
    "import \"fmt\"\n",
    "\n",
    "\n",
    "func counter(out chan<- int) {\n",
    "    for x := 0; x <= 10; x++ {\n",
    "        out <- x\n",
    "    }\n",
    "    close(out)\n",
    "}\n",
    "\n",
    "func squarer(out chan<- int, in <-chan int) {\n",
    "    for v := range in {\n",
    "        out <- v * v\n",
    "    }\n",
    "    close(out)\n",
    "}\n",
    "\n",
    "func printer(in <-chan int) {\n",
    "    for v := range in {\n",
    "        fmt.Println(v)\n",
    "    }\n",
    "}\n",
    "\n",
    "func main() {\n",
    "    naturals := make(chan int)\n",
    "    squares := make(chan int)\n",
    "\n",
    "    go counter(naturals)\n",
    "    go squarer(squares, naturals)\n",
    "    printer(squares)\n",
    "}\n",
    "\n",
    "main()"
   ]
  },
  {
   "cell_type": "markdown",
   "metadata": {},
   "source": [
    "## Buffered Channels\n",
    "In the unlikely event that a program needs to know the channel’s buffer capacity, it can be obtained by calling the built-in cap function:"
   ]
  },
  {
   "cell_type": "code",
   "execution_count": 9,
   "metadata": {},
   "outputs": [
    {
     "data": {
      "text/plain": [
       "0"
      ]
     },
     "execution_count": 9,
     "metadata": {},
     "output_type": "execute_result"
    }
   ],
   "source": [
    "c := make(chan int)\n",
    "cap(c)"
   ]
  },
  {
   "cell_type": "code",
   "execution_count": 10,
   "metadata": {},
   "outputs": [
    {
     "data": {
      "text/plain": [
       "10"
      ]
     },
     "execution_count": 10,
     "metadata": {},
     "output_type": "execute_result"
    }
   ],
   "source": [
    "c := make(chan int, 10)\n",
    "cap(c)"
   ]
  },
  {
   "cell_type": "markdown",
   "metadata": {},
   "source": [
    "When applied to a channel, the built-in len function returns the number of elements currently buffered."
   ]
  },
  {
   "cell_type": "code",
   "execution_count": 12,
   "metadata": {},
   "outputs": [
    {
     "data": {
      "text/plain": [
       "3"
      ]
     },
     "execution_count": 12,
     "metadata": {},
     "output_type": "execute_result"
    }
   ],
   "source": [
    "c <- 1\n",
    "c <- 2\n",
    "c <- 3\n",
    "\n",
    "len(c)"
   ]
  },
  {
   "cell_type": "code",
   "execution_count": 13,
   "metadata": {},
   "outputs": [
    {
     "data": {
      "text/plain": [
       "10"
      ]
     },
     "execution_count": 13,
     "metadata": {},
     "output_type": "execute_result"
    }
   ],
   "source": [
    "cap(c)"
   ]
  },
  {
   "cell_type": "code",
   "execution_count": 14,
   "metadata": {},
   "outputs": [
    {
     "name": "stdout",
     "output_type": "stream",
     "text": [
      "1 true\n",
      "2 true\n",
      "3 true\n"
     ]
    }
   ],
   "source": [
    "for {\n",
    "    if len(c) == 0 {\n",
    "        break\n",
    "    }\n",
    "    fmt.Println(<-c)\n",
    "}"
   ]
  },
  {
   "cell_type": "code",
   "execution_count": 20,
   "metadata": {},
   "outputs": [
    {
     "data": {
      "text/plain": [
       "americas.gopl.io returned"
      ]
     },
     "execution_count": 20,
     "metadata": {},
     "output_type": "execute_result"
    }
   ],
   "source": [
    "func mirroredQuery() string {\n",
    "    responses := make(chan string, 3)\n",
    "    go func() { responses <- request(\"asia.gopl.io\") }()\n",
    "    go func() { responses <- request(\"europe.gopl.io\") }()\n",
    "    go func() { responses <- request(\"americas.gopl.io\") }()\n",
    "    return <-responses // return the quickest response\n",
    "}\n",
    "\n",
    "func request(hostname string) (response string) {\n",
    "    return hostname + \" returned\"\n",
    "}\n",
    "\n",
    "mirroredQuery()"
   ]
  },
  {
   "cell_type": "markdown",
   "metadata": {},
   "source": [
    "## Multiplexing with select\n",
    "The time.Tick function returns a channel on which it sends events periodically, acting like a metronome. The value of each event is a timestamp."
   ]
  },
  {
   "cell_type": "code",
   "execution_count": 22,
   "metadata": {},
   "outputs": [
    {
     "name": "stdout",
     "output_type": "stream",
     "text": [
      "Commencing countdown.\n",
      "5\n",
      "4\n",
      "3\n",
      "2\n",
      "1\n",
      "Lift off!\n"
     ]
    }
   ],
   "source": [
    "import (\n",
    "    \"fmt\"\n",
    "    \"time\"\n",
    ")\n",
    "\n",
    "func main() {\n",
    "    fmt.Println(\"Commencing countdown.\")\n",
    "    tick := time.Tick(1 * time.Second)\n",
    "    for countdown := 5; countdown > 0; countdown-- {\n",
    "        fmt.Println(countdown)\n",
    "        <-tick\n",
    "    }\n",
    "    launch()\n",
    "}\n",
    "\n",
    "func launch() {\n",
    "    fmt.Println(\"Lift off!\")\n",
    "}\n",
    "\n",
    "main()"
   ]
  },
  {
   "cell_type": "markdown",
   "metadata": {},
   "source": [
    "Now let’s add the ability to abort the launch sequence by pressing the return key during the countdown."
   ]
  },
  {
   "cell_type": "code",
   "execution_count": 24,
   "metadata": {},
   "outputs": [
    {
     "name": "stdout",
     "output_type": "stream",
     "text": [
      "Commencing countdown.  Press return to abort.\n",
      "Launch aborted!\n"
     ]
    }
   ],
   "source": [
    "import (\n",
    "    \"fmt\"\n",
    "    \"os\"\n",
    "    \"time\"\n",
    ")\n",
    "\n",
    "func main() {\n",
    "    abort := make(chan struct{})\n",
    "    go func() {\n",
    "        os.Stdin.Read(make([]byte, 1)) // read a single byte\n",
    "        abort <- struct{}{}\n",
    "    }()\n",
    "\n",
    "\n",
    "    fmt.Println(\"Commencing countdown.  Press return to abort.\")\n",
    "    select {\n",
    "    case <-time.After(5 * time.Second):\n",
    "        // Do nothing.\n",
    "    case <-abort:\n",
    "        fmt.Println(\"Launch aborted!\")\n",
    "        return\n",
    "    }\n",
    "    launch()\n",
    "}\n",
    "\n",
    "func launch() {\n",
    "    fmt.Println(\"Lift off!\")\n",
    "}\n",
    "\n",
    "main()"
   ]
  },
  {
   "cell_type": "markdown",
   "metadata": {},
   "source": [
    "Now each iteration of the countdown loop needs to wait for an event to arrive on one of the two channels: the ticker channel if everything is fine or an abort event if there was an \"anomaly\"."
   ]
  },
  {
   "cell_type": "markdown",
   "metadata": {},
   "source": [
    "## Odds and evens"
   ]
  },
  {
   "cell_type": "code",
   "execution_count": 1,
   "metadata": {},
   "outputs": [],
   "source": [
    "// go run oddevens.go\n",
    "\n",
    "import \"fmt\"\n",
    "\n",
    "func collectNumbers(numbers chan<- int) {\n",
    "    for i := 1; i <= 10; i++ {\n",
    "        numbers <- i\n",
    "    }\n",
    "    close(numbers)\n",
    "}\n",
    "\n",
    "func sortOddsAndEvens(numbers <-chan int, odd chan<- int, even chan<- int) {\n",
    "    for {\n",
    "        number, more := <-numbers\n",
    "        if !more {\n",
    "            break\n",
    "        }\n",
    "        if number%2 == 0 {\n",
    "            even <- number\n",
    "        } else {\n",
    "            odd <- number\n",
    "        }\n",
    "    }\n",
    "    close(odd)\n",
    "    close(even)\n",
    "}\n",
    "\n",
    "func printNumbers(even <-chan int, odd <-chan int, done chan<- bool) {\n",
    "    for {\n",
    "        select {\n",
    "        case n, more := <-even:\n",
    "            if !more {\n",
    "                even = nil\n",
    "            } else {\n",
    "                fmt.Println(\"even\", n)\n",
    "            }\n",
    "        case n, more := <-odd:\n",
    "            if !more {\n",
    "                odd = nil\n",
    "            } else {\n",
    "                fmt.Println(\"odd\", n)\n",
    "            }\n",
    "        }\n",
    "        if even == nil && odd == nil {\n",
    "            break\n",
    "        }\n",
    "    }\n",
    "    done <- true\n",
    "}\n",
    "\n",
    "func main() {\n",
    "    buff := 10\n",
    "    numbers := make(chan int, buff)\n",
    "    odd := make(chan int, buff)\n",
    "    even := make(chan int, buff)\n",
    "    done := make(chan bool)\n",
    "\n",
    "    go collectNumbers(numbers)\n",
    "    go sortOddsAndEvens(numbers, odd, even)\n",
    "    go printNumbers(odd, even, done)\n",
    "\n",
    "    <-done // wait\n",
    "}"
   ]
  },
  {
   "cell_type": "code",
   "execution_count": null,
   "metadata": {},
   "outputs": [],
   "source": []
  }
 ],
 "metadata": {
  "kernelspec": {
   "display_name": "Go",
   "language": "go",
   "name": "gophernotes"
  },
  "language_info": {
   "codemirror_mode": "",
   "file_extension": ".go",
   "mimetype": "",
   "name": "go",
   "nbconvert_exporter": "",
   "pygments_lexer": "",
   "version": "go1.11.4"
  }
 },
 "nbformat": 4,
 "nbformat_minor": 2
}
