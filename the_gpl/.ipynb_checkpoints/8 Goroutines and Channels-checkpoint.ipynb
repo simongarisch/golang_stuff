{
 "cells": [
  {
   "cell_type": "markdown",
   "metadata": {},
   "source": [
    "## Goroutines and Channels\n",
    "\n",
    "Go enables two styles of concurrent programming. This chapter presents goroutines and channels, which support communicating sequential processes or CSP, a model of concurrency in which values are passed between independent activities (goroutines) but variables are for the most part confined to a single activity.\n",
    "\n",
    "In Go, each concurrently executing activity is called a goroutine. Consider a program that has two functions, one that does some computation and one that writes some output, and assume that neither function calls the other. A sequential program may call one function and then call the other, but in a concurrent program with two or more goroutines, calls to both functions can be active at the same time."
   ]
  },
  {
   "cell_type": "code",
   "execution_count": 1,
   "metadata": {},
   "outputs": [
    {
     "name": "stdout",
     "output_type": "stream",
     "text": [
      "Fibonacci(35) = 9227465\n"
     ]
    }
   ],
   "source": [
    "// spinner\n",
    "import (\n",
    "    \"fmt\"\n",
    "    \"time\"\n",
    ")\n",
    "\n",
    "func main() {\n",
    "    go spinner(100 * time.Millisecond)\n",
    "    const n = 35\n",
    "    fibN := fib(n) // slow\n",
    "    fmt.Printf(\"\\rFibonacci(%d) = %d\\n\", n, fibN)\n",
    "}\n",
    "\n",
    "func spinner(delay time.Duration) {\n",
    "    for {\n",
    "        for _, r := range `-\\|/` {\n",
    "            fmt.Printf(\"\\r%c\", r)\n",
    "            time.Sleep(delay)\n",
    "        }\n",
    "    }\n",
    "}\n",
    "\n",
    "func fib(x int) int {\n",
    "    if x < 2 {\n",
    "        return x\n",
    "    }\n",
    "    return fib(x-1) + fib(x-2)\n",
    "}\n",
    "\n",
    "main()"
   ]
  },
  {
   "cell_type": "markdown",
   "metadata": {},
   "source": [
    "## Channels\n",
    "If goroutines are the activities of a concurrent Go program, channels are the connections between them.\n",
    "\n",
    "Channels are a typed conduit through which you can send and receive values with the channel operator, <-"
   ]
  },
  {
   "cell_type": "code",
   "execution_count": 2,
   "metadata": {},
   "outputs": [
    {
     "name": "stdout",
     "output_type": "stream",
     "text": [
      "-5 17 12\n"
     ]
    },
    {
     "data": {
      "text/plain": [
       "9 <nil>"
      ]
     },
     "execution_count": 2,
     "metadata": {},
     "output_type": "execute_result"
    }
   ],
   "source": [
    "func sum(s []int, c chan int) {\n",
    "    sum := 0\n",
    "    for _, v := range s {\n",
    "        sum += v\n",
    "    }\n",
    "    c <- sum // send sum to c\n",
    "}\n",
    "\n",
    "s := []int{7, 2, 8, -9, 4, 0}\n",
    "\n",
    "c := make(chan int)\n",
    "go sum(s[:len(s)/2], c)\n",
    "go sum(s[len(s)/2:], c)\n",
    "x, y := <-c, <-c // receive from c\n",
    "fmt.Println(x, y, x + y)"
   ]
  },
  {
   "cell_type": "markdown",
   "metadata": {},
   "source": [
    "A channel has two principal operations, send and receive, collectively known as communications. A send statement transmits a value from one goroutine, through the channel, to another goroutine executing a corresponding receive expression. Both operations are written using the <- operator."
   ]
  },
  {
   "cell_type": "code",
   "execution_count": 3,
   "metadata": {},
   "outputs": [],
   "source": [
    "func calc(i int, c chan int) {\n",
    "    c <- 42 + i\n",
    "}"
   ]
  },
  {
   "cell_type": "code",
   "execution_count": 4,
   "metadata": {},
   "outputs": [
    {
     "name": "stdout",
     "output_type": "stream",
     "text": [
      "47\n",
      "43\n",
      "44\n",
      "45\n",
      "46\n"
     ]
    }
   ],
   "source": [
    "nums := []int{1, 2, 3, 4, 5}\n",
    "c := make(chan int)\n",
    "\n",
    "// send them all for calculation\n",
    "for i:= 0; i<len(nums); i++ {\n",
    "    go calc(nums[i], c)\n",
    "}\n",
    "\n",
    "// get the results back\n",
    "for i:= 0; i<len(nums); i++ {\n",
    "    result := <- c\n",
    "    fmt.Println(result)\n",
    "}"
   ]
  },
  {
   "cell_type": "markdown",
   "metadata": {},
   "source": [
    "Notice that you won't necessarily get results back in the order they were sent.\n",
    "\n",
    "Channels can be buffered. Provide the buffer length as the second argument to make to initialize a buffered channel."
   ]
  },
  {
   "cell_type": "code",
   "execution_count": 5,
   "metadata": {},
   "outputs": [],
   "source": [
    "ch := make(chan int, 100)"
   ]
  },
  {
   "cell_type": "code",
   "execution_count": 6,
   "metadata": {},
   "outputs": [],
   "source": [
    "type Square struct {\n",
    "    Width int\n",
    "}\n",
    "\n",
    "func (s Square) Area() int {\n",
    "    return s.Width * s.Width\n",
    "}"
   ]
  },
  {
   "cell_type": "code",
   "execution_count": 7,
   "metadata": {},
   "outputs": [
    {
     "data": {
      "text/plain": [
       "4"
      ]
     },
     "execution_count": 7,
     "metadata": {},
     "output_type": "execute_result"
    }
   ],
   "source": [
    "s := Square{2}\n",
    "s.Area()"
   ]
  },
  {
   "cell_type": "code",
   "execution_count": 8,
   "metadata": {},
   "outputs": [
    {
     "data": {
      "text/plain": [
       "[{1} {2} {3}]"
      ]
     },
     "execution_count": 8,
     "metadata": {},
     "output_type": "execute_result"
    }
   ],
   "source": [
    "squares := []Square{\n",
    "    Square{1},\n",
    "    Square{2},\n",
    "    Square{3},\n",
    "}\n",
    "\n",
    "squares"
   ]
  },
  {
   "cell_type": "code",
   "execution_count": 9,
   "metadata": {},
   "outputs": [],
   "source": [
    "areas := make(map[Square]int)\n",
    "\n",
    "func recordArea(s Square) {\n",
    "    areas[s] = s.Area()\n",
    "}\n",
    "\n",
    "for _, s := range squares {\n",
    "    recordArea(s)\n",
    "}"
   ]
  },
  {
   "cell_type": "code",
   "execution_count": 10,
   "metadata": {},
   "outputs": [
    {
     "data": {
      "text/plain": [
       "map[{1}:1 {2}:4 {3}:9]"
      ]
     },
     "execution_count": 10,
     "metadata": {},
     "output_type": "execute_result"
    }
   ],
   "source": [
    "areas"
   ]
  },
  {
   "cell_type": "markdown",
   "metadata": {},
   "source": [
    "We can make this concurrent..."
   ]
  },
  {
   "cell_type": "code",
   "execution_count": 5,
   "metadata": {},
   "outputs": [],
   "source": [
    "type Square struct {\n",
    "    Width int\n",
    "}\n",
    "\n",
    "func (s Square) Area() int {\n",
    "    return s.Width * s.Width\n",
    "}"
   ]
  },
  {
   "cell_type": "code",
   "execution_count": 9,
   "metadata": {},
   "outputs": [],
   "source": [
    "// see the results with conc.go\n",
    "import \"fmt\"\n",
    "\n",
    "func recordArea(s Square, areas map[Square]int, c chan bool) {\n",
    "    areas[s] = s.Area()\n",
    "    c <- true\n",
    "}\n",
    "\n",
    "func main() {\n",
    "    squares := []Square{\n",
    "        Square{1},\n",
    "        Square{2},\n",
    "        Square{3},\n",
    "    }\n",
    "\n",
    "    areas := make(map[Square]int)\n",
    "    c := make(chan bool)\n",
    "\n",
    "    for _, s := range squares {\n",
    "        go recordArea(s, areas, c)\n",
    "    }\n",
    "\n",
    "    for i := 0; i < len(squares); i++ {\n",
    "        <-c\n",
    "    }\n",
    "\n",
    "    fmt.Println(areas)\n",
    "}\n"
   ]
  },
  {
   "cell_type": "markdown",
   "metadata": {},
   "source": [
    "## Combining this with select"
   ]
  },
  {
   "cell_type": "code",
   "execution_count": null,
   "metadata": {},
   "outputs": [],
   "source": []
  },
  {
   "cell_type": "code",
   "execution_count": null,
   "metadata": {},
   "outputs": [],
   "source": []
  }
 ],
 "metadata": {
  "kernelspec": {
   "display_name": "Go",
   "language": "go",
   "name": "gophernotes"
  },
  "language_info": {
   "codemirror_mode": "",
   "file_extension": ".go",
   "mimetype": "",
   "name": "go",
   "nbconvert_exporter": "",
   "pygments_lexer": "",
   "version": "go1.11.4"
  }
 },
 "nbformat": 4,
 "nbformat_minor": 2
}
