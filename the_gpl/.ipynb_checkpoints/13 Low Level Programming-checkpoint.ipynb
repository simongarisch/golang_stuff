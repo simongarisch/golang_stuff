{
 "cells": [
  {
   "cell_type": "markdown",
   "metadata": {},
   "source": [
    "## Low Level Programming\n",
    "\n",
    "In this chapter, we'll see how the unsafe package lets us step outside the usual rules, and how to use the cgo tool to create Go bindings for C libraries and operating system calls.\n",
    "\n",
    "Package unsafe is used extensively within low-level packages like runtime, os, syscall, and net that interact with the operating system, but is almost never needed by ordinary programs."
   ]
  },
  {
   "cell_type": "code",
   "execution_count": 1,
   "metadata": {},
   "outputs": [],
   "source": [
    "import \"unsafe\""
   ]
  },
  {
   "cell_type": "code",
   "execution_count": 4,
   "metadata": {},
   "outputs": [
    {
     "ename": "ERROR",
     "evalue": "repl.go:1:1: not a type: unsafe.Sizeof <*ast.SelectorExpr>",
     "output_type": "error",
     "traceback": [
      "repl.go:1:1: not a type: unsafe.Sizeof <*ast.SelectorExpr>"
     ]
    }
   ],
   "source": [
    "unsafe.Sizeof(float64(0))"
   ]
  },
  {
   "cell_type": "markdown",
   "metadata": {},
   "source": [
    "See https://medium.com/a-journey-with-go/go-what-is-the-unsafe-package-d2443da36350\n",
    "\n",
    "The name of the package could let us know that we should not use it. To understand the reasons that it could be unsafe to use this package, let’s first refer to the documentation:\n",
    "\n",
    "Package unsafe contains operations that step around the type safety of Go programs.\n",
    "Packages that import unsafe may be non-portable and are not protected by the Go 1 compatibility guidelines."
   ]
  },
  {
   "cell_type": "markdown",
   "metadata": {},
   "source": [
    "## Calling C Code with cgo\n",
    "go lets Go packages call C code. Given a Go source file written with some special features, cgo outputs Go and C files that can be combined into a single Go package."
   ]
  },
  {
   "cell_type": "code",
   "execution_count": null,
   "metadata": {},
   "outputs": [],
   "source": [
    "/*\n",
    "#include <stdlib.h>\n",
    "*/\n",
    "import \"C\"\n",
    "\n",
    "func Random() int {\n",
    "    return int(C.random())\n",
    "}\n",
    "\n",
    "func Seed(i int) {\n",
    "    C.srandom(C.uint(i))\n",
    "}"
   ]
  },
  {
   "cell_type": "markdown",
   "metadata": {},
   "source": [
    "## Another word of caution\n",
    "\n",
    "We ended the previous chapter with a warning about the downsides of the reflection interface. That warning applies with even more force to the unsafe package described in this chapter.\n",
    "\n",
    "The unsafe package lets programmers reach through the insulation to use some crucial but otherwise inaccessible feature, or perhaps to achieve higher performance. The cost is usually to portability and safety, so one uses unsafe at one’s peril.\n",
    "\n",
    "For now, put the last two chapters in the back of your mind. Write some substantial Go programs. Avoid reflect and unsafe; come back to these chapters only if you must."
   ]
  },
  {
   "cell_type": "markdown",
   "metadata": {},
   "source": [
    "***"
   ]
  }
 ],
 "metadata": {
  "kernelspec": {
   "display_name": "Go",
   "language": "go",
   "name": "gophernotes"
  },
  "language_info": {
   "codemirror_mode": "",
   "file_extension": ".go",
   "mimetype": "",
   "name": "go",
   "nbconvert_exporter": "",
   "pygments_lexer": "",
   "version": "go1.11.4"
  }
 },
 "nbformat": 4,
 "nbformat_minor": 2
}
