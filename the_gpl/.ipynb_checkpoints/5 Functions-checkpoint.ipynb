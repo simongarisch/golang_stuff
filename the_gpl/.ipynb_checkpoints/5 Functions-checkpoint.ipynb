{
 "cells": [
  {
   "cell_type": "markdown",
   "metadata": {},
   "source": [
    "## Functions"
   ]
  },
  {
   "cell_type": "code",
   "execution_count": 1,
   "metadata": {},
   "outputs": [
    {
     "data": {
      "text/plain": [
       "14.142135623730951"
      ]
     },
     "execution_count": 1,
     "metadata": {},
     "output_type": "execute_result"
    }
   ],
   "source": [
    "import \"math\"\n",
    "\n",
    "func hypot(x, y float64) float64 {\n",
    "    return math.Sqrt(x*x + y*y)\n",
    "}\n",
    "\n",
    "hypot(10, 10)"
   ]
  },
  {
   "cell_type": "markdown",
   "metadata": {},
   "source": [
    "Here are four ways to declare a function with two parameters and one result, all of type int. The blank identifier can be used to emphasize that a parameter is unused."
   ]
  },
  {
   "cell_type": "code",
   "execution_count": 2,
   "metadata": {},
   "outputs": [],
   "source": [
    "func add(x int, y int) int   { return x + y }\n",
    "func sub(x, y int) (z int)   { z = x - y; return }\n",
    "func first(x int, _ int) int { return x }\n",
    "func zero(int, int) int      { return 0 }"
   ]
  },
  {
   "cell_type": "markdown",
   "metadata": {},
   "source": [
    "## Recursion\n",
    "\n",
    "Functions may be recursive, that is, they may call themselves, either directly or indirectly."
   ]
  },
  {
   "cell_type": "code",
   "execution_count": 7,
   "metadata": {},
   "outputs": [
    {
     "name": "stdout",
     "output_type": "stream",
     "text": [
      "1 1\n",
      "2 3\n",
      "3 6\n",
      "4 10\n",
      "5 15\n",
      "6 21\n",
      "7 28\n",
      "8 36\n",
      "9 45\n",
      "10 55\n"
     ]
    }
   ],
   "source": [
    "import \"fmt\"\n",
    "\n",
    "func sumFromZero(x int) int {\n",
    "    if x <= 0 {\n",
    "        return 0\n",
    "    }\n",
    "    if x == 1 {\n",
    "        return 1\n",
    "    }\n",
    "    return x + sumFromZero(x-1)\n",
    "}\n",
    "\n",
    "for i:=1; i<= 10; i++ {\n",
    "    fmt.Println(i, sumFromZero(i))\n",
    "}"
   ]
  },
  {
   "cell_type": "code",
   "execution_count": 19,
   "metadata": {},
   "outputs": [],
   "source": [
    "import (\n",
    "    \"fmt\"\n",
    "    \"io/ioutil\"\n",
    "    \"net/http\"\n",
    ")\n",
    "\n",
    "\n",
    "func getHtml(url string) ([]uint8, error) {\n",
    "    \n",
    "    resp, err := http.Get(url)\n",
    "    if err != nil {\n",
    "        return \"\", err\n",
    "    }\n",
    "    defer resp.Body.Close()\n",
    "\n",
    "    html, err := ioutil.ReadAll(resp.Body)\n",
    "    if err != nil {\n",
    "        return \"\", err\n",
    "    }\n",
    "\n",
    "    return html, nil\n",
    "}\n",
    "\n",
    "url := \"https://golang.org/\"\n",
    "html, err := getHtml(url)"
   ]
  },
  {
   "cell_type": "code",
   "execution_count": 20,
   "metadata": {},
   "outputs": [
    {
     "data": {
      "text/plain": [
       "11077"
      ]
     },
     "execution_count": 20,
     "metadata": {},
     "output_type": "execute_result"
    }
   ],
   "source": [
    "len(html)"
   ]
  },
  {
   "cell_type": "code",
   "execution_count": 21,
   "metadata": {},
   "outputs": [
    {
     "data": {
      "text/plain": [
       "[]uint8"
      ]
     },
     "execution_count": 21,
     "metadata": {},
     "output_type": "execute_result"
    }
   ],
   "source": [
    "import \"reflect\"\n",
    "\n",
    "reflect.TypeOf(html).String()"
   ]
  },
  {
   "cell_type": "code",
   "execution_count": 25,
   "metadata": {},
   "outputs": [
    {
     "data": {
      "text/plain": [
       "<!DOCTYPE html>\n",
       "<html lang=\"en\">\n",
       "<meta charset=\"utf-8\">\n",
       "<meta name=\"description\" content=\"Go is an open source programming language that makes it easy to build simple, reliable, and efficient software.\">\n",
       "<meta name=\"viewport\" content=\"width=device-width, initial-scale=1\">\n",
       "<meta name=\"theme-color\" content=\"#00ADD8\">\n",
       "\n",
       "  <title>The Go Programming Language</title>\n",
       "\n",
       "<link href=\"https://fonts.googleapis.com/css?family=Work+Sans:600|Roboto:400,700\" rel=\"stylesheet\">\n",
       "<link href=\"https://fonts.googleapis.com/css?family=Product+Sans&text=Supported%20by%20Google&display=swap\" rel=\"stylesheet\">\n",
       "<link type=\"text/css\" rel=\"stylesheet\" href=\"/lib/godoc/style.css\">\n",
       "\n",
       "<link rel=\"search\" type=\"application/opensearchdescription+xml\" title=\"godoc\" href=\"/opensearch.xml\" />\n",
       "\n",
       "<script>window.initFuncs = [];</script>\n",
       "\n",
       "<script>\n",
       "var _gaq = _gaq || [];\n",
       "_gaq.push([\"_setAccount\", \"UA-11222381-2\"]);\n",
       "window.trackPageview = function() {\n",
       "  _gaq.push([\"_trackPageview\", location.pathname+location.hash]);\n",
       "};\n",
       "window.trackP"
      ]
     },
     "execution_count": 25,
     "metadata": {},
     "output_type": "execute_result"
    }
   ],
   "source": [
    "string(html)[:1000]"
   ]
  },
  {
   "cell_type": "markdown",
   "metadata": {},
   "source": [
    "## Errors\n",
    "A function for which failure is an expected behavior returns an additional result, conventionally the last one. If the failure has only one possible cause, the result is a boolean, usually called ok. For now it’s enough to know that an error may be nil or non-nil, that nil implies success and non-nil implies failure, and that a non-nil error has an error message string.\n",
    "\n",
    "When a function call returns an error, it’s the caller’s responsibility to check it and take appropriate action. First, and most common, is to propagate the error, so that a failure in a subroutine becomes a failure of the calling routine."
   ]
  },
  {
   "cell_type": "code",
   "execution_count": null,
   "metadata": {},
   "outputs": [],
   "source": [
    "resp, err := http.Get(url)\n",
    "if err != nil {\n",
    "    return nil, err\n",
    "}"
   ]
  },
  {
   "cell_type": "markdown",
   "metadata": {},
   "source": [
    "Another approach is to create a new error message..."
   ]
  },
  {
   "cell_type": "code",
   "execution_count": 26,
   "metadata": {},
   "outputs": [
    {
     "data": {
      "text/plain": [
       "This is a new error message..."
      ]
     },
     "execution_count": 26,
     "metadata": {},
     "output_type": "execute_result"
    }
   ],
   "source": [
    "fmt.Errorf(\"This is a new error message...\")"
   ]
  },
  {
   "cell_type": "markdown",
   "metadata": {},
   "source": [
    "Because error messages are frequently chained together, message strings should not be capitalized and newlines should be avoided. The resulting errors may be long, but they will be self-contained when found by tools like grep.\n",
    "\n",
    "Let’s move on to the second strategy for handling errors. For errors that represent transient or unpredictable problems, it may make sense to retry the failed operation, possibly with a delay between tries, and perhaps with a limit on the number of attempts or the time spent trying before giving up entirely."
   ]
  },
  {
   "cell_type": "code",
   "execution_count": 28,
   "metadata": {},
   "outputs": [
    {
     "name": "stdout",
     "output_type": "stream",
     "text": [
      "Site is up\n"
     ]
    }
   ],
   "source": [
    "import (\n",
    "    \"fmt\"\n",
    "    \"log\"\n",
    "    \"net/http\"\n",
    "    \"os\"\n",
    "    \"time\"\n",
    ")\n",
    "\n",
    "func WaitForServer(url string) error {\n",
    "    const timeout = 1 * time.Minute\n",
    "    deadline := time.Now().Add(timeout)\n",
    "    for tries := 0; time.Now().Before(deadline); tries++ {\n",
    "        _, err := http.Head(url)\n",
    "        if err == nil {\n",
    "            return nil\n",
    "        }\n",
    "        log.Printf(\"server not responding (%s); retrying...\", err)\n",
    "        time.Sleep(time.Second << uint(tries)) // exponential back-off\n",
    "    }\n",
    "    return fmt.Errorf(\"server %s failed to respond after %s\", url, timeout)\n",
    "}\n",
    "\n",
    "func main() {\n",
    "    url := \"https://golang.org/\"\n",
    "\n",
    "    if err := WaitForServer(url); err != nil {\n",
    "        fmt.Fprintf(os.Stderr, \"Site is down: %v\\n\", err)\n",
    "        os.Exit(1)\n",
    "    }\n",
    "    fmt.Println(\"Site is up\")\n",
    "}\n",
    "\n",
    "main()"
   ]
  },
  {
   "cell_type": "markdown",
   "metadata": {},
   "source": [
    "A more convenient way to achieve the same effect is to call log.Fatalf. As with all the log functions, by default it prefixes the time and date to the error message.\n",
    "\n",
    "And fifth and finally, in rare cases we can safely ignore an error entirely."
   ]
  },
  {
   "cell_type": "markdown",
   "metadata": {},
   "source": [
    "## Function Values\n",
    "\n",
    "Functions are first-class values in Go: like other values, function values have types, and they may be assigned to variables or passed to or returned from functions."
   ]
  },
  {
   "cell_type": "code",
   "execution_count": 2,
   "metadata": {},
   "outputs": [
    {
     "name": "stdout",
     "output_type": "stream",
     "text": [
      "9\n",
      "-3\n",
      "func(int) int\n"
     ]
    },
    {
     "data": {
      "text/plain": [
       "14 <nil>"
      ]
     },
     "execution_count": 2,
     "metadata": {},
     "output_type": "execute_result"
    }
   ],
   "source": [
    "import \"fmt\"\n",
    "\n",
    "func square(n int) int     { return n * n }\n",
    "func negative(n int) int   { return -n }\n",
    "func product(m, n int) int { return m * n }\n",
    "\n",
    "f := square\n",
    "fmt.Println(f(3)) // \"9\"\n",
    "\n",
    "f = negative\n",
    "fmt.Println(f(3))     // \"-3\"\n",
    "fmt.Printf(\"%T\\n\", f) // \"func(int) int\""
   ]
  },
  {
   "cell_type": "code",
   "execution_count": 4,
   "metadata": {},
   "outputs": [
    {
     "name": "stdout",
     "output_type": "stream",
     "text": [
      "1\n",
      "2\n",
      "3\n",
      "4\n",
      "5\n",
      "6\n",
      "7\n",
      "8\n",
      "9\n",
      "10\n"
     ]
    }
   ],
   "source": [
    "// closures\n",
    "import \"fmt\"\n",
    "\n",
    "func counter() func() int {\n",
    "    count := 0\n",
    "    return func() int {\n",
    "        count += 1\n",
    "        return count\n",
    "    }\n",
    "}\n",
    "\n",
    "func main() {\n",
    "    count := counter()\n",
    "    for i := 0; i < 10; i++ {\n",
    "        fmt.Println(count())\n",
    "    }\n",
    "}\n",
    "\n",
    "main()"
   ]
  },
  {
   "cell_type": "code",
   "execution_count": 6,
   "metadata": {},
   "outputs": [],
   "source": [
    "func squares() func() int {\n",
    "    var x int\n",
    "    return func() int {\n",
    "        x++\n",
    "        return x * x\n",
    "    }\n",
    "}\n",
    "\n",
    "square := squares()"
   ]
  },
  {
   "cell_type": "code",
   "execution_count": 7,
   "metadata": {},
   "outputs": [
    {
     "data": {
      "text/plain": [
       "1"
      ]
     },
     "execution_count": 7,
     "metadata": {},
     "output_type": "execute_result"
    }
   ],
   "source": [
    "square()"
   ]
  },
  {
   "cell_type": "code",
   "execution_count": 8,
   "metadata": {},
   "outputs": [
    {
     "data": {
      "text/plain": [
       "4"
      ]
     },
     "execution_count": 8,
     "metadata": {},
     "output_type": "execute_result"
    }
   ],
   "source": [
    "square()"
   ]
  },
  {
   "cell_type": "code",
   "execution_count": 9,
   "metadata": {},
   "outputs": [
    {
     "data": {
      "text/plain": [
       "9"
      ]
     },
     "execution_count": 9,
     "metadata": {},
     "output_type": "execute_result"
    }
   ],
   "source": [
    "square()"
   ]
  },
  {
   "cell_type": "markdown",
   "metadata": {},
   "source": [
    "## Variadic Functions\n",
    "A variadic function is one that can be called with varying numbers of arguments."
   ]
  },
  {
   "cell_type": "code",
   "execution_count": 11,
   "metadata": {},
   "outputs": [],
   "source": [
    "func sum(vals ...int) int {\n",
    "    total := 0\n",
    "    for _, val := range vals {\n",
    "        total += val\n",
    "}\n",
    "    return total\n",
    "}"
   ]
  },
  {
   "cell_type": "code",
   "execution_count": 12,
   "metadata": {},
   "outputs": [
    {
     "data": {
      "text/plain": [
       "6"
      ]
     },
     "execution_count": 12,
     "metadata": {},
     "output_type": "execute_result"
    }
   ],
   "source": [
    "sum(1,2,3)"
   ]
  },
  {
   "cell_type": "code",
   "execution_count": null,
   "metadata": {},
   "outputs": [],
   "source": []
  }
 ],
 "metadata": {
  "kernelspec": {
   "display_name": "Go",
   "language": "go",
   "name": "gophernotes"
  },
  "language_info": {
   "codemirror_mode": "",
   "file_extension": ".go",
   "mimetype": "",
   "name": "go",
   "nbconvert_exporter": "",
   "pygments_lexer": "",
   "version": "go1.11.4"
  }
 },
 "nbformat": 4,
 "nbformat_minor": 2
}
