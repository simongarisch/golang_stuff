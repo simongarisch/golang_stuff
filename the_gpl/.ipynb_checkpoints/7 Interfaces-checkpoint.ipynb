{
 "cells": [
  {
   "cell_type": "markdown",
   "metadata": {},
   "source": [
    "## Interfaces\n",
    "\n",
    "Interface types express generalizations or abstractions about the behaviors of other types. By generalizing, interfaces let us write functions that are more flexible and adaptable because they are not tied to the details of one particular implementation."
   ]
  },
  {
   "cell_type": "code",
   "execution_count": 1,
   "metadata": {},
   "outputs": [],
   "source": [
    "// https://gobyexample.com/interfaces\n",
    "\n",
    "import (\n",
    "    \"fmt\"\n",
    "    \"math\"\n",
    ")\n",
    "\n",
    "\n",
    "type geometry interface {\n",
    "    area() float64\n",
    "    perim() float64\n",
    "}\n",
    "\n",
    "\n",
    "type rect struct {\n",
    "    width, height float64\n",
    "}\n",
    "\n",
    "\n",
    "type circle struct {\n",
    "    radius float64\n",
    "}\n",
    "\n",
    "\n",
    "func (r rect) area() float64 {\n",
    "    return r.width * r.height\n",
    "}\n",
    "\n",
    "\n",
    "func (r rect) perim() float64 {\n",
    "    return 2*r.width + 2*r.height\n",
    "}\n",
    "\n",
    "\n",
    "func (c circle) area() float64 {\n",
    "    return math.Pi * c.radius * c.radius\n",
    "}\n",
    "\n",
    "\n",
    "func (c circle) perim() float64 {\n",
    "    return 2 * math.Pi * c.radius\n",
    "}\n"
   ]
  },
  {
   "cell_type": "code",
   "execution_count": 2,
   "metadata": {},
   "outputs": [
    {
     "name": "stdout",
     "output_type": "stream",
     "text": [
      "&{{{0xc000750c60 0xc00009b530 409} 0x5564f4c3eab0} 0x5564f4534eb0 0x5564f4534eb0}\n",
      "12\n",
      "14\n",
      "&{{{0xc000750de0 0xc00009b540 409} 0x5564f4c3eab0} 0x5564f4534eb0 0x5564f4534eb0}\n",
      "78.53981633974483\n",
      "31.41592653589793\n"
     ]
    }
   ],
   "source": [
    "func measure(g geometry) {\n",
    "    fmt.Println(g)\n",
    "    fmt.Println(g.area())\n",
    "    fmt.Println(g.perim())\n",
    "}\n",
    "\n",
    "func main() {\n",
    "    r := rect{width: 3, height: 4}\n",
    "    c := circle{radius: 5}\n",
    "\n",
    "    measure(r)\n",
    "    measure(c)\n",
    "}\n",
    "\n",
    "main()"
   ]
  },
  {
   "cell_type": "markdown",
   "metadata": {},
   "source": [
    "## Interface Satisfaction\n",
    "\n",
    "A type satisfies an interface if it possesses all the methods the interface requires."
   ]
  },
  {
   "cell_type": "code",
   "execution_count": 4,
   "metadata": {},
   "outputs": [],
   "source": [
    "var g geometry = circle{2}"
   ]
  },
  {
   "cell_type": "code",
   "execution_count": 7,
   "metadata": {},
   "outputs": [
    {
     "data": {
      "text/plain": [
       "12.566370614359172"
      ]
     },
     "execution_count": 7,
     "metadata": {},
     "output_type": "execute_result"
    }
   ],
   "source": [
    "g.area()"
   ]
  },
  {
   "cell_type": "code",
   "execution_count": 8,
   "metadata": {},
   "outputs": [
    {
     "data": {
      "text/plain": [
       "12.566370614359172"
      ]
     },
     "execution_count": 8,
     "metadata": {},
     "output_type": "execute_result"
    }
   ],
   "source": [
    "g.perim()"
   ]
  },
  {
   "cell_type": "code",
   "execution_count": 9,
   "metadata": {},
   "outputs": [],
   "source": [
    "// without a perim method square does not satisty the geometry interface\n",
    "\n",
    "type square struct {\n",
    "    width float64\n",
    "}\n",
    "\n",
    "func (s square) area() float64 {\n",
    "    return s.width * s.width\n",
    "}\n"
   ]
  },
  {
   "cell_type": "code",
   "execution_count": 11,
   "metadata": {},
   "outputs": [
    {
     "ename": "ERROR",
     "evalue": "repl.go:1:1: error compiling assignment: g = square{2}\n\trepl.go:1:1: incompatible types in assignment: main.geometry = main.square\n\treason: main.square does not implement main.geometry: missing method perim() float64",
     "output_type": "error",
     "traceback": [
      "repl.go:1:1: error compiling assignment: g = square{2}\n\trepl.go:1:1: incompatible types in assignment: main.geometry = main.square\n\treason: main.square does not implement main.geometry: missing method perim() float64"
     ]
    }
   ],
   "source": [
    "g = square{2}  // interface is not satisfied"
   ]
  },
  {
   "cell_type": "markdown",
   "metadata": {},
   "source": [
    "We can fix this by giving square a perim method."
   ]
  },
  {
   "cell_type": "code",
   "execution_count": 12,
   "metadata": {},
   "outputs": [],
   "source": [
    "func (s square) perim() float64 {\n",
    "    return s.width * 4\n",
    "}"
   ]
  },
  {
   "cell_type": "code",
   "execution_count": 13,
   "metadata": {},
   "outputs": [],
   "source": [
    "g = square{2}  // no issues now"
   ]
  },
  {
   "cell_type": "code",
   "execution_count": 14,
   "metadata": {},
   "outputs": [
    {
     "data": {
      "text/plain": [
       "&{{{0xc000602180 0xc00074e2f0 409} 0x5564f4c3eab0} 0x5564f4534eb0 0x5564f4534eb0}"
      ]
     },
     "execution_count": 14,
     "metadata": {},
     "output_type": "execute_result"
    }
   ],
   "source": [
    "g"
   ]
  },
  {
   "cell_type": "code",
   "execution_count": 15,
   "metadata": {},
   "outputs": [
    {
     "data": {
      "text/plain": [
       "4"
      ]
     },
     "execution_count": 15,
     "metadata": {},
     "output_type": "execute_result"
    }
   ],
   "source": [
    "g.area()"
   ]
  },
  {
   "cell_type": "code",
   "execution_count": 16,
   "metadata": {},
   "outputs": [
    {
     "data": {
      "text/plain": [
       "8"
      ]
     },
     "execution_count": 16,
     "metadata": {},
     "output_type": "execute_result"
    }
   ],
   "source": [
    "g.perim()"
   ]
  },
  {
   "cell_type": "markdown",
   "metadata": {},
   "source": [
    "## Parsing Flags with flag.Value"
   ]
  },
  {
   "cell_type": "code",
   "execution_count": null,
   "metadata": {},
   "outputs": [],
   "source": [
    "// run this outside the notebook\n",
    "package main\n",
    "\n",
    "import (\n",
    "    \"flag\"\n",
    "    \"fmt\"\n",
    ")\n",
    "\n",
    "func main() {\n",
    "\n",
    "    wordPtr := flag.String(\"word\", \"foo\", \"a string\")\n",
    "    numbPtr := flag.Int(\"numb\", 42, \"an int\")\n",
    "    boolPtr := flag.Bool(\"fork\", false, \"a bool\")\n",
    "\n",
    "    var svar string\n",
    "    flag.StringVar(&svar, \"svar\", \"bar\", \"a string var\")\n",
    "\n",
    "    flag.Parse()\n",
    "\n",
    "    fmt.Println(\"word:\", *wordPtr)\n",
    "    fmt.Println(\"numb:\", *numbPtr)\n",
    "    fmt.Println(\"fork:\", *boolPtr)\n",
    "    fmt.Println(\"svar:\", svar)\n",
    "    fmt.Println(\"tail:\", flag.Args())\n",
    "}\n",
    "\n",
    "// go build flags.go\n",
    "// flags -word=opt -numb=7 -fork -svar=flag"
   ]
  },
  {
   "cell_type": "markdown",
   "metadata": {},
   "source": [
    "## The error interface\n",
    "Since the beginning of this book, we’ve been using and creating values of the mysterious predeclared error type without explaining what it really is. In fact, it’s just an interface type with a single method that returns an error message:\n",
    "\n",
    "type error interface {\n",
    "    Error() string\n",
    "}\n",
    "\n",
    "The simplest way to create an error is by calling errors.New, which returns a new error for a given error message."
   ]
  },
  {
   "cell_type": "code",
   "execution_count": 18,
   "metadata": {},
   "outputs": [],
   "source": [
    "import \"errors\"\n",
    "\n",
    "e := errors.New(\"this is my error\")"
   ]
  },
  {
   "cell_type": "code",
   "execution_count": 19,
   "metadata": {},
   "outputs": [
    {
     "data": {
      "text/plain": [
       "this is my error"
      ]
     },
     "execution_count": 19,
     "metadata": {},
     "output_type": "execute_result"
    }
   ],
   "source": [
    "e"
   ]
  },
  {
   "cell_type": "markdown",
   "metadata": {},
   "source": [
    "## Type Assertions\n",
    "\n",
    "A type assertion provides access to an interface value's underlying concrete value.\n",
    "\n",
    "t := i.(T)\n",
    "\n",
    "This statement asserts that the interface value i holds the concrete type T and assigns the underlying T value to the variable t.\n",
    "\n",
    "If i does not hold a T, the statement will trigger a panic."
   ]
  },
  {
   "cell_type": "code",
   "execution_count": 20,
   "metadata": {},
   "outputs": [
    {
     "name": "stdout",
     "output_type": "stream",
     "text": [
      "hello\n",
      "hello true\n",
      "0 false\n"
     ]
    },
    {
     "data": {
      "text/plain": [
       "8 <nil>"
      ]
     },
     "execution_count": 20,
     "metadata": {},
     "output_type": "execute_result"
    }
   ],
   "source": [
    "var i interface{} = \"hello\"\n",
    "\n",
    "s := i.(string)\n",
    "fmt.Println(s)\n",
    "\n",
    "s, ok := i.(string)\n",
    "fmt.Println(s, ok)\n",
    "\n",
    "f, ok := i.(float64)\n",
    "fmt.Println(f, ok)"
   ]
  },
  {
   "cell_type": "code",
   "execution_count": 22,
   "metadata": {},
   "outputs": [
    {
     "ename": "ERROR",
     "evalue": "interface conversion: <interface{}> is <string>, not <float64>",
     "output_type": "error",
     "traceback": [
      "interface conversion: <interface{}> is <string>, not <float64>"
     ]
    }
   ],
   "source": [
    "f = i.(float64) // panic"
   ]
  },
  {
   "cell_type": "markdown",
   "metadata": {},
   "source": [
    "Where might type assertions be useful..."
   ]
  },
  {
   "cell_type": "code",
   "execution_count": 23,
   "metadata": {},
   "outputs": [],
   "source": [
    "// https://stackoverflow.com/questions/38816843/explain-type-assertions-in-go\n",
    "type Circle struct {\n",
    "    Radius float64\n",
    "}\n",
    "\n",
    "\n",
    "func (t Circle) Area() float64 {\n",
    "    return math.Pi * t.Radius * t.Radius\n",
    "}\n",
    "\n",
    "\n",
    "type Triangle struct {\n",
    "    A, B, C float64 // lengths of the sides of a triangle.\n",
    "}\n",
    "\n",
    "\n",
    "func (t Triangle) Area() float64 {\n",
    "    p := (t.A + t.B + t.C) / 2.0 // perimeter half\n",
    "    return math.Sqrt(p * (p - t.A) * (p - t.B) * (p - t.C))\n",
    "}\n",
    "\n",
    "\n",
    "type Rectangle struct {\n",
    "    A, B float64\n",
    "}\n",
    "\n",
    "\n",
    "func (t Rectangle) Area() float64 {\n",
    "    return t.A * t.B\n",
    "}\n",
    "\n",
    "\n",
    "type Square struct {\n",
    "    A float64\n",
    "}\n",
    "\n",
    "\n",
    "func (t Square) Area() float64 {\n",
    "    return t.A * t.A\n",
    "}\n",
    "\n"
   ]
  },
  {
   "cell_type": "code",
   "execution_count": 24,
   "metadata": {},
   "outputs": [],
   "source": [
    "type Shape interface {\n",
    "    Area() float64\n",
    "}"
   ]
  },
  {
   "cell_type": "code",
   "execution_count": 25,
   "metadata": {},
   "outputs": [],
   "source": [
    "shapes := []Shape{\n",
    "    Circle{1.0},\n",
    "    Square{1.772453},\n",
    "    Rectangle{5, 10},\n",
    "    Triangle{10, 4, 7},\n",
    "}"
   ]
  },
  {
   "cell_type": "code",
   "execution_count": 26,
   "metadata": {},
   "outputs": [
    {
     "data": {
      "text/plain": [
       "[0xc000759470 0xc0007594d0 0xc000759530 0xc000759590]"
      ]
     },
     "execution_count": 26,
     "metadata": {},
     "output_type": "execute_result"
    }
   ],
   "source": [
    "shapes"
   ]
  },
  {
   "cell_type": "code",
   "execution_count": 28,
   "metadata": {},
   "outputs": [],
   "source": [
    "func (t Triangle) Angles() []float64 {\n",
    "    return []float64{angle(t.B, t.C, t.A), angle(t.A, t.C, t.B), angle(t.A, t.B, t.C)}\n",
    "}\n",
    "\n",
    "func angle(a, b, c float64) float64 {\n",
    "    return math.Acos((a*a+b*b-c*c)/(2*a*b)) * 180.0 / math.Pi\n",
    "}"
   ]
  },
  {
   "cell_type": "code",
   "execution_count": 29,
   "metadata": {},
   "outputs": [
    {
     "name": "stdout",
     "output_type": "stream",
     "text": [
      "&{{{0xc000030cc0 0xc00074f1d0 409} 0x5564f4c3eab0} 0x5564f4534eb0} \tArea: 3.141592653589793\n",
      "&{{{0xc000031c20 0xc00074f1d8 409} 0x5564f4c3eab0} 0x5564f4534eb0} \tArea: 3.1415896372090004\n",
      "&{{{0xc0000315c0 0xc00074f1e0 409} 0x5564f4c3eab0} 0x5564f4534eb0} \tArea: 50\n",
      "&{{{0xc000030f00 0xc00009d560 409} 0x5564f4c3eab0} 0x5564f4534eb0} \tArea: 10.928746497197197\n",
      "Angles: [128.68218745348943 18.194872338766785 33.12294020774379]\n"
     ]
    }
   ],
   "source": [
    "for _, v := range shapes {\n",
    "    fmt.Println(v, \"\\tArea:\", v.Area())\n",
    "    if t, ok := v.(Triangle); ok {  // type assertion\n",
    "        fmt.Println(\"Angles:\", t.Angles())\n",
    "    }\n",
    "}"
   ]
  },
  {
   "cell_type": "markdown",
   "metadata": {},
   "source": [
    "## A few words of advice\n",
    "\n",
    "When designing a new package, novice Go programmers often start by creating a set of interfaces and only later define the concrete types that satisfy them. This approach results in many interfaces, each of which has only a single implementation. Don’t do that. Such interfaces are unnecessary abstractions; they also have a run-time cost. You can restrict which methods of a type or fields of a struct are visible outside a package using the export mechanism. Interfaces are only needed when there are two or more concrete types that must be dealt with in a uniform way. "
   ]
  },
  {
   "cell_type": "markdown",
   "metadata": {},
   "source": [
    "***"
   ]
  }
 ],
 "metadata": {
  "kernelspec": {
   "display_name": "Go",
   "language": "go",
   "name": "gophernotes"
  },
  "language_info": {
   "codemirror_mode": "",
   "file_extension": ".go",
   "mimetype": "",
   "name": "go",
   "nbconvert_exporter": "",
   "pygments_lexer": "",
   "version": "go1.11.4"
  }
 },
 "nbformat": 4,
 "nbformat_minor": 2
}
