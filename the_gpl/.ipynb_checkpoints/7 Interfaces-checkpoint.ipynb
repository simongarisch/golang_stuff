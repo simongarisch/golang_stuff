{
 "cells": [
  {
   "cell_type": "markdown",
   "metadata": {},
   "source": [
    "## Interfaces\n",
    "\n",
    "Interface types express generalizations or abstractions about the behaviors of other types. By generalizing, interfaces let us write functions that are more flexible and adaptable because they are not tied to the details of one particular implementation."
   ]
  },
  {
   "cell_type": "code",
   "execution_count": 2,
   "metadata": {},
   "outputs": [],
   "source": [
    "// https://gobyexample.com/interfaces\n",
    "\n",
    "import (\n",
    "    \"fmt\"\n",
    "    \"math\"\n",
    ")\n",
    "\n",
    "\n",
    "type geometry interface {\n",
    "    area() float64\n",
    "    perim() float64\n",
    "}\n",
    "\n",
    "\n",
    "type rect struct {\n",
    "    width, height float64\n",
    "}\n",
    "\n",
    "\n",
    "type circle struct {\n",
    "    radius float64\n",
    "}\n",
    "\n",
    "\n",
    "func (r rect) area() float64 {\n",
    "    return r.width * r.height\n",
    "}\n",
    "\n",
    "\n",
    "func (r rect) perim() float64 {\n",
    "    return 2*r.width + 2*r.height\n",
    "}\n",
    "\n",
    "\n",
    "func (c circle) area() float64 {\n",
    "    return math.Pi * c.radius * c.radius\n",
    "}\n",
    "\n",
    "\n",
    "func (c circle) perim() float64 {\n",
    "    return 2 * math.Pi * c.radius\n",
    "}\n"
   ]
  },
  {
   "cell_type": "code",
   "execution_count": 3,
   "metadata": {},
   "outputs": [
    {
     "name": "stdout",
     "output_type": "stream",
     "text": [
      "&{{{0xc0000d0c00 0xc000036d70 409} 0x555eb6f1eab0} 0x555eb6814eb0 0x555eb6814eb0}\n",
      "12\n",
      "14\n",
      "&{{{0xc0000d0d80 0xc000036d88 409} 0x555eb6f1eab0} 0x555eb6814eb0 0x555eb6814eb0}\n",
      "78.53981633974483\n",
      "31.41592653589793\n"
     ]
    }
   ],
   "source": [
    "func measure(g geometry) {\n",
    "    fmt.Println(g)\n",
    "    fmt.Println(g.area())\n",
    "    fmt.Println(g.perim())\n",
    "}\n",
    "\n",
    "func main() {\n",
    "    r := rect{width: 3, height: 4}\n",
    "    c := circle{radius: 5}\n",
    "\n",
    "    measure(r)\n",
    "    measure(c)\n",
    "}\n",
    "\n",
    "main()"
   ]
  },
  {
   "cell_type": "code",
   "execution_count": null,
   "metadata": {},
   "outputs": [],
   "source": []
  }
 ],
 "metadata": {
  "kernelspec": {
   "display_name": "Go",
   "language": "go",
   "name": "gophernotes"
  },
  "language_info": {
   "codemirror_mode": "",
   "file_extension": ".go",
   "mimetype": "",
   "name": "go",
   "nbconvert_exporter": "",
   "pygments_lexer": "",
   "version": "go1.11.4"
  }
 },
 "nbformat": 4,
 "nbformat_minor": 2
}
