{
 "cells": [
  {
   "cell_type": "markdown",
   "metadata": {},
   "source": [
    "### pymongo setup"
   ]
  },
  {
   "cell_type": "code",
   "execution_count": 1,
   "metadata": {},
   "outputs": [],
   "source": [
    "import pymongo"
   ]
  },
  {
   "cell_type": "code",
   "execution_count": 2,
   "metadata": {},
   "outputs": [],
   "source": [
    "client = pymongo.MongoClient(\"localhost:27017\")"
   ]
  },
  {
   "cell_type": "code",
   "execution_count": 3,
   "metadata": {},
   "outputs": [
    {
     "data": {
      "text/plain": [
       "MongoClient(host=['localhost:27017'], document_class=dict, tz_aware=False, connect=True)"
      ]
     },
     "execution_count": 3,
     "metadata": {},
     "output_type": "execute_result"
    }
   ],
   "source": [
    "client"
   ]
  },
  {
   "cell_type": "code",
   "execution_count": 9,
   "metadata": {},
   "outputs": [
    {
     "data": {
      "text/plain": [
       "['acme', 'admin', 'config', 'local']"
      ]
     },
     "execution_count": 9,
     "metadata": {},
     "output_type": "execute_result"
    }
   ],
   "source": [
    "client.list_database_names()"
   ]
  },
  {
   "cell_type": "code",
   "execution_count": 10,
   "metadata": {},
   "outputs": [],
   "source": [
    "# neither the database nor the collection are created until you attempt to write a document\n",
    "db = client.somedb\n",
    "coll = db.somedata"
   ]
  },
  {
   "cell_type": "code",
   "execution_count": 11,
   "metadata": {},
   "outputs": [
    {
     "data": {
      "text/plain": [
       "['acme', 'admin', 'config', 'local']"
      ]
     },
     "execution_count": 11,
     "metadata": {},
     "output_type": "execute_result"
    }
   ],
   "source": [
    "client.list_database_names()"
   ]
  },
  {
   "cell_type": "code",
   "execution_count": 13,
   "metadata": {},
   "outputs": [
    {
     "data": {
      "text/plain": [
       "<pymongo.results.InsertOneResult at 0x29a92894508>"
      ]
     },
     "execution_count": 13,
     "metadata": {},
     "output_type": "execute_result"
    }
   ],
   "source": [
    "coll.insert_one({\"name\": \"this is a name\", \"age\": 32})"
   ]
  },
  {
   "cell_type": "code",
   "execution_count": 16,
   "metadata": {},
   "outputs": [
    {
     "data": {
      "text/plain": [
       "[{'_id': ObjectId('60cc4f0ce4e745372d9884e3'),\n",
       "  'name': 'this is a name',\n",
       "  'age': 32},\n",
       " {'_id': ObjectId('60cc4f17e4e745372d9884e4'),\n",
       "  'name': 'this is a name',\n",
       "  'age': 32}]"
      ]
     },
     "execution_count": 16,
     "metadata": {},
     "output_type": "execute_result"
    }
   ],
   "source": [
    "[item for item in coll.find()]"
   ]
  },
  {
   "cell_type": "code",
   "execution_count": 17,
   "metadata": {},
   "outputs": [
    {
     "data": {
      "text/plain": [
       "<pymongo.results.InsertManyResult at 0x29a928b8888>"
      ]
     },
     "execution_count": 17,
     "metadata": {},
     "output_type": "execute_result"
    }
   ],
   "source": [
    "coll.insert_many([\n",
    "    {\"name\": \"this is a name\", \"age\": 32},\n",
    "    {\"name\": \"bob\", \"age\": 72},\n",
    "    {\"name\": \"simon\", \"age\": 22},\n",
    "    {\"name\": \"jane\", \"age\": 36},\n",
    "])"
   ]
  },
  {
   "cell_type": "code",
   "execution_count": 18,
   "metadata": {},
   "outputs": [
    {
     "data": {
      "text/plain": [
       "[{'_id': ObjectId('60cc4f0ce4e745372d9884e3'),\n",
       "  'name': 'this is a name',\n",
       "  'age': 32},\n",
       " {'_id': ObjectId('60cc4f17e4e745372d9884e4'),\n",
       "  'name': 'this is a name',\n",
       "  'age': 32},\n",
       " {'_id': ObjectId('60cc4fa2e4e745372d9884e5'),\n",
       "  'name': 'this is a name',\n",
       "  'age': 32},\n",
       " {'_id': ObjectId('60cc4fa2e4e745372d9884e6'), 'name': 'bob', 'age': 72},\n",
       " {'_id': ObjectId('60cc4fa2e4e745372d9884e7'), 'name': 'simon', 'age': 22},\n",
       " {'_id': ObjectId('60cc4fa2e4e745372d9884e8'), 'name': 'jane', 'age': 36}]"
      ]
     },
     "execution_count": 18,
     "metadata": {},
     "output_type": "execute_result"
    }
   ],
   "source": [
    "[item for item in coll.find()]"
   ]
  },
  {
   "cell_type": "code",
   "execution_count": 20,
   "metadata": {},
   "outputs": [
    {
     "data": {
      "text/plain": [
       "[{'_id': ObjectId('60cc4f0ce4e745372d9884e3'),\n",
       "  'name': 'this is a name',\n",
       "  'age': 32},\n",
       " {'_id': ObjectId('60cc4f17e4e745372d9884e4'),\n",
       "  'name': 'this is a name',\n",
       "  'age': 32},\n",
       " {'_id': ObjectId('60cc4fa2e4e745372d9884e5'),\n",
       "  'name': 'this is a name',\n",
       "  'age': 32}]"
      ]
     },
     "execution_count": 20,
     "metadata": {},
     "output_type": "execute_result"
    }
   ],
   "source": [
    "[item for item in coll.find({\"name\": \"this is a name\"})]"
   ]
  },
  {
   "cell_type": "code",
   "execution_count": 21,
   "metadata": {},
   "outputs": [
    {
     "data": {
      "text/plain": [
       "[{'_id': ObjectId('60cc4fa2e4e745372d9884e7'), 'name': 'simon', 'age': 22}]"
      ]
     },
     "execution_count": 21,
     "metadata": {},
     "output_type": "execute_result"
    }
   ],
   "source": [
    "[item for item in coll.find({\"name\": \"simon\"})]"
   ]
  },
  {
   "cell_type": "code",
   "execution_count": 24,
   "metadata": {},
   "outputs": [
    {
     "data": {
      "text/plain": [
       "<pymongo.results.InsertManyResult at 0x29a928ca8c8>"
      ]
     },
     "execution_count": 24,
     "metadata": {},
     "output_type": "execute_result"
    }
   ],
   "source": [
    "coll2 = db.moredata\n",
    "coll2.insert_many([\n",
    "    {\"name\": \"blah\"},\n",
    "    {\"name\": \"de blah\"},\n",
    "    {\"name\": \"de blah\"},\n",
    "    {\"name\": \"blah\"},\n",
    "])"
   ]
  },
  {
   "cell_type": "code",
   "execution_count": 25,
   "metadata": {},
   "outputs": [
    {
     "data": {
      "text/plain": [
       "[{'_id': ObjectId('60cc5053e4e745372d9884ed'), 'name': 'blah'},\n",
       " {'_id': ObjectId('60cc5053e4e745372d9884ee'), 'name': 'de blah'},\n",
       " {'_id': ObjectId('60cc5053e4e745372d9884ef'), 'name': 'de blah'},\n",
       " {'_id': ObjectId('60cc5053e4e745372d9884f0'), 'name': 'blah'}]"
      ]
     },
     "execution_count": 25,
     "metadata": {},
     "output_type": "execute_result"
    }
   ],
   "source": [
    "[item for item in coll2.find()]"
   ]
  },
  {
   "cell_type": "code",
   "execution_count": 30,
   "metadata": {},
   "outputs": [
    {
     "data": {
      "text/plain": [
       "<pymongo.results.UpdateResult at 0x29a928ca988>"
      ]
     },
     "execution_count": 30,
     "metadata": {},
     "output_type": "execute_result"
    }
   ],
   "source": [
    "from bson.objectid import ObjectId\n",
    "\n",
    "coll2.update_one({\"_id\": ObjectId(\"60cc5053e4e745372d9884ed\")}, {\n",
    "    \"$set\": {\n",
    "        \"name\": \"this is a better name\",\n",
    "    }\n",
    "}, upsert=True)"
   ]
  },
  {
   "cell_type": "code",
   "execution_count": 31,
   "metadata": {},
   "outputs": [
    {
     "data": {
      "text/plain": [
       "[{'_id': ObjectId('60cc5053e4e745372d9884ed'),\n",
       "  'name': 'this is a better name'},\n",
       " {'_id': ObjectId('60cc5053e4e745372d9884ee'), 'name': 'de blah'},\n",
       " {'_id': ObjectId('60cc5053e4e745372d9884ef'), 'name': 'de blah'},\n",
       " {'_id': ObjectId('60cc5053e4e745372d9884f0'), 'name': 'blah'},\n",
       " {'_id': '60cc5053e4e745372d9884ed', 'name': 'this is a better name'}]"
      ]
     },
     "execution_count": 31,
     "metadata": {},
     "output_type": "execute_result"
    }
   ],
   "source": [
    "[item for item in coll2.find()]"
   ]
  },
  {
   "cell_type": "code",
   "execution_count": 32,
   "metadata": {},
   "outputs": [
    {
     "data": {
      "text/plain": [
       "<pymongo.results.DeleteResult at 0x29a928cae48>"
      ]
     },
     "execution_count": 32,
     "metadata": {},
     "output_type": "execute_result"
    }
   ],
   "source": [
    "coll2.delete_many({\"name\": \"de blah\"})"
   ]
  },
  {
   "cell_type": "code",
   "execution_count": 33,
   "metadata": {},
   "outputs": [
    {
     "data": {
      "text/plain": [
       "[{'_id': ObjectId('60cc5053e4e745372d9884ed'),\n",
       "  'name': 'this is a better name'},\n",
       " {'_id': ObjectId('60cc5053e4e745372d9884f0'), 'name': 'blah'},\n",
       " {'_id': '60cc5053e4e745372d9884ed', 'name': 'this is a better name'}]"
      ]
     },
     "execution_count": 33,
     "metadata": {},
     "output_type": "execute_result"
    }
   ],
   "source": [
    "[item for item in coll2.find()]"
   ]
  },
  {
   "cell_type": "code",
   "execution_count": 35,
   "metadata": {},
   "outputs": [
    {
     "data": {
      "text/plain": [
       "[{'_id': ObjectId('60cc5053e4e745372d9884ed'),\n",
       "  'name': 'this is a better name'},\n",
       " {'_id': ObjectId('60cc5053e4e745372d9884f0'), 'name': 'blah'}]"
      ]
     },
     "execution_count": 35,
     "metadata": {},
     "output_type": "execute_result"
    }
   ],
   "source": [
    "coll2.delete_one({\"_id\": \"60cc5053e4e745372d9884ed\"})\n",
    "[item for item in coll2.find()]"
   ]
  },
  {
   "cell_type": "code",
   "execution_count": 36,
   "metadata": {},
   "outputs": [],
   "source": [
    "client.drop_database(\"somedb\")"
   ]
  },
  {
   "cell_type": "markdown",
   "metadata": {},
   "source": [
    "***"
   ]
  }
 ],
 "metadata": {
  "kernelspec": {
   "display_name": "py36",
   "language": "python",
   "name": "py36"
  },
  "language_info": {
   "codemirror_mode": {
    "name": "ipython",
    "version": 3
   },
   "file_extension": ".py",
   "mimetype": "text/x-python",
   "name": "python",
   "nbconvert_exporter": "python",
   "pygments_lexer": "ipython3",
   "version": "3.6.6"
  }
 },
 "nbformat": 4,
 "nbformat_minor": 2
}
